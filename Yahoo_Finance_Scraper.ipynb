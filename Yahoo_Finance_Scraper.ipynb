{
 "cells": [
  {
   "cell_type": "code",
   "execution_count": 2,
   "id": "69ada5ee",
   "metadata": {},
   "outputs": [],
   "source": [
    "# 1) Overall Market Trends: get data from Yahoo Finance: SP500 + NASDAQ\n",
    "# --------Figure out the date range\n",
    "\n",
    "# 2) Modern Crypto Data: get data from Yahoo Finance (for live updating the model?)\n",
    "# --------Time Frame of the data?\n",
    "# --------match the data in the kaggel dataset. "
   ]
  },
  {
   "cell_type": "code",
   "execution_count": 4,
   "id": "e7a1582f",
   "metadata": {},
   "outputs": [],
   "source": [
    "import pandas as pd\n",
    "import numpy as np\n",
    "from bs4 import BeautifulSoup"
   ]
  },
  {
   "cell_type": "code",
   "execution_count": null,
   "id": "112a5ca0",
   "metadata": {},
   "outputs": [],
   "source": []
  }
 ],
 "metadata": {
  "kernelspec": {
   "display_name": "mlenv",
   "language": "python",
   "name": "mlenv"
  },
  "language_info": {
   "codemirror_mode": {
    "name": "ipython",
    "version": 3
   },
   "file_extension": ".py",
   "mimetype": "text/x-python",
   "name": "python",
   "nbconvert_exporter": "python",
   "pygments_lexer": "ipython3",
   "version": "3.7.10"
  }
 },
 "nbformat": 4,
 "nbformat_minor": 5
}
