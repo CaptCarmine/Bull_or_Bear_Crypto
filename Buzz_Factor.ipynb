{
 "cells": [
  {
   "cell_type": "code",
   "execution_count": 1,
   "id": "9ae3bf92",
   "metadata": {},
   "outputs": [],
   "source": [
    "# 3) Buzz factor: currency Name frequency in search engine(?) results, sort into News?, blogs?, ect?\n",
    "# --------NEED DATES\n",
    "# --------Get enough text to maybe do some sentiment analysis with NLP?"
   ]
  },
  {
   "cell_type": "code",
   "execution_count": 2,
   "id": "c6514742",
   "metadata": {},
   "outputs": [],
   "source": [
    "import numpy as np\n",
    "import pandas as pd\n",
    "from bs4 import BeautifulSoup"
   ]
  },
  {
   "cell_type": "code",
   "execution_count": null,
   "id": "e9831486",
   "metadata": {},
   "outputs": [],
   "source": []
  }
 ],
 "metadata": {
  "kernelspec": {
   "display_name": "mlenv",
   "language": "python",
   "name": "mlenv"
  },
  "language_info": {
   "codemirror_mode": {
    "name": "ipython",
    "version": 3
   },
   "file_extension": ".py",
   "mimetype": "text/x-python",
   "name": "python",
   "nbconvert_exporter": "python",
   "pygments_lexer": "ipython3",
   "version": "3.7.10"
  }
 },
 "nbformat": 4,
 "nbformat_minor": 5
}
