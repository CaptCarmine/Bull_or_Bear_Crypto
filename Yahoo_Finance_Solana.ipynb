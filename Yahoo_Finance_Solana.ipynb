{
 "cells": [
  {
   "cell_type": "code",
   "execution_count": 1,
   "id": "cfecd545",
   "metadata": {},
   "outputs": [],
   "source": [
    "import pandas\n",
    "# Imports to load from subdirectories\n",
    "import sys\n",
    "sys.path.insert(0, './load')\n",
    "\n",
    "# Imports for the YF scraper \n",
    "from Yahoo_Finance_Scraper import get_historical_data\n",
    "from webdriver_manager.chrome import ChromeDriverManager\n",
    "from splinter import Browser\n",
    "import numpy as np"
   ]
  },
  {
   "cell_type": "code",
   "execution_count": 2,
   "id": "b45c7704",
   "metadata": {},
   "outputs": [
    {
     "name": "stderr",
     "output_type": "stream",
     "text": [
      "\n",
      "\n",
      "====== WebDriver manager ======\n",
      "Current google-chrome version is 94.0.4606\n",
      "Get LATEST driver version for 94.0.4606\n",
      "Driver [C:\\Users\\19125\\.wdm\\drivers\\chromedriver\\win32\\94.0.4606.61\\chromedriver.exe] found in cache\n"
     ]
    },
    {
     "name": "stdout",
     "output_type": "stream",
     "text": [
      "(539, 7) (1472, 7) (684, 7)\n"
     ]
    }
   ],
   "source": [
    "# Minimal code to run it\n",
    "executable_path = {'executable_path': ChromeDriverManager().install()}\n",
    "browser = Browser('chrome', **executable_path, headless = True)\n",
    "sol1_data = get_historical_data(browser, 'SOL1-USD', '9/17/2014', '9/29/2021')\n",
    "link_data = get_historical_data(browser, 'LINK-USD', '9/17/2014', '9/29/2021') \n",
    "atom1_data = get_historical_data(browser, 'ATOM1-USD', '9/17/2014', '9/29/2021')\n",
    "browser.quit()\n",
    "print(sol1_data.shape, link_data.shape, atom1_data.shape)"
   ]
  },
  {
   "cell_type": "code",
   "execution_count": 3,
   "id": "cdd95a24",
   "metadata": {},
   "outputs": [
    {
     "data": {
      "text/html": [
       "<div>\n",
       "<style scoped>\n",
       "    .dataframe tbody tr th:only-of-type {\n",
       "        vertical-align: middle;\n",
       "    }\n",
       "\n",
       "    .dataframe tbody tr th {\n",
       "        vertical-align: top;\n",
       "    }\n",
       "\n",
       "    .dataframe thead th {\n",
       "        text-align: right;\n",
       "    }\n",
       "</style>\n",
       "<table border=\"1\" class=\"dataframe\">\n",
       "  <thead>\n",
       "    <tr style=\"text-align: right;\">\n",
       "      <th></th>\n",
       "      <th>Date</th>\n",
       "      <th>Open</th>\n",
       "      <th>High</th>\n",
       "      <th>Low</th>\n",
       "      <th>Close*</th>\n",
       "      <th>Adj Close**</th>\n",
       "      <th>Volume</th>\n",
       "    </tr>\n",
       "  </thead>\n",
       "  <tbody>\n",
       "    <tr>\n",
       "      <th>0</th>\n",
       "      <td>2020-04-10</td>\n",
       "      <td>0.83</td>\n",
       "      <td>1.31</td>\n",
       "      <td>0.69</td>\n",
       "      <td>0.95</td>\n",
       "      <td>0.95</td>\n",
       "      <td>87,364,276</td>\n",
       "    </tr>\n",
       "    <tr>\n",
       "      <th>1</th>\n",
       "      <td>2020-04-11</td>\n",
       "      <td>0.95</td>\n",
       "      <td>1.05</td>\n",
       "      <td>0.77</td>\n",
       "      <td>0.78</td>\n",
       "      <td>0.78</td>\n",
       "      <td>43,862,444</td>\n",
       "    </tr>\n",
       "    <tr>\n",
       "      <th>2</th>\n",
       "      <td>2020-04-12</td>\n",
       "      <td>0.79</td>\n",
       "      <td>0.96</td>\n",
       "      <td>0.76</td>\n",
       "      <td>0.88</td>\n",
       "      <td>0.88</td>\n",
       "      <td>38,736,897</td>\n",
       "    </tr>\n",
       "    <tr>\n",
       "      <th>3</th>\n",
       "      <td>2020-04-13</td>\n",
       "      <td>0.89</td>\n",
       "      <td>0.89</td>\n",
       "      <td>0.77</td>\n",
       "      <td>0.78</td>\n",
       "      <td>0.78</td>\n",
       "      <td>18,211,285</td>\n",
       "    </tr>\n",
       "    <tr>\n",
       "      <th>4</th>\n",
       "      <td>2020-04-14</td>\n",
       "      <td>0.78</td>\n",
       "      <td>0.80</td>\n",
       "      <td>0.63</td>\n",
       "      <td>0.66</td>\n",
       "      <td>0.66</td>\n",
       "      <td>16,747,614</td>\n",
       "    </tr>\n",
       "  </tbody>\n",
       "</table>\n",
       "</div>"
      ],
      "text/plain": [
       "        Date  Open  High   Low Close* Adj Close**      Volume\n",
       "0 2020-04-10  0.83  1.31  0.69   0.95        0.95  87,364,276\n",
       "1 2020-04-11  0.95  1.05  0.77   0.78        0.78  43,862,444\n",
       "2 2020-04-12  0.79  0.96  0.76   0.88        0.88  38,736,897\n",
       "3 2020-04-13  0.89  0.89  0.77   0.78        0.78  18,211,285\n",
       "4 2020-04-14  0.78  0.80  0.63   0.66        0.66  16,747,614"
      ]
     },
     "execution_count": 3,
     "metadata": {},
     "output_type": "execute_result"
    }
   ],
   "source": [
    "sol1_data.head()"
   ]
  },
  {
   "cell_type": "code",
   "execution_count": 4,
   "id": "3216ebfa",
   "metadata": {},
   "outputs": [
    {
     "data": {
      "text/html": [
       "<div>\n",
       "<style scoped>\n",
       "    .dataframe tbody tr th:only-of-type {\n",
       "        vertical-align: middle;\n",
       "    }\n",
       "\n",
       "    .dataframe tbody tr th {\n",
       "        vertical-align: top;\n",
       "    }\n",
       "\n",
       "    .dataframe thead th {\n",
       "        text-align: right;\n",
       "    }\n",
       "</style>\n",
       "<table border=\"1\" class=\"dataframe\">\n",
       "  <thead>\n",
       "    <tr style=\"text-align: right;\">\n",
       "      <th></th>\n",
       "      <th>Date</th>\n",
       "      <th>Open</th>\n",
       "      <th>High</th>\n",
       "      <th>Low</th>\n",
       "      <th>Close*</th>\n",
       "      <th>Adj Close**</th>\n",
       "      <th>Volume</th>\n",
       "    </tr>\n",
       "  </thead>\n",
       "  <tbody>\n",
       "    <tr>\n",
       "      <th>0</th>\n",
       "      <td>2017-09-20</td>\n",
       "      <td>0.16</td>\n",
       "      <td>0.19</td>\n",
       "      <td>0.15</td>\n",
       "      <td>0.19</td>\n",
       "      <td>0.19</td>\n",
       "      <td>2,718,640</td>\n",
       "    </tr>\n",
       "    <tr>\n",
       "      <th>1</th>\n",
       "      <td>2017-09-21</td>\n",
       "      <td>0.19</td>\n",
       "      <td>0.21</td>\n",
       "      <td>0.16</td>\n",
       "      <td>0.17</td>\n",
       "      <td>0.17</td>\n",
       "      <td>2,126,270</td>\n",
       "    </tr>\n",
       "    <tr>\n",
       "      <th>2</th>\n",
       "      <td>2017-09-22</td>\n",
       "      <td>0.17</td>\n",
       "      <td>0.18</td>\n",
       "      <td>0.14</td>\n",
       "      <td>0.15</td>\n",
       "      <td>0.15</td>\n",
       "      <td>1,423,220</td>\n",
       "    </tr>\n",
       "    <tr>\n",
       "      <th>3</th>\n",
       "      <td>2017-09-23</td>\n",
       "      <td>0.15</td>\n",
       "      <td>0.16</td>\n",
       "      <td>0.13</td>\n",
       "      <td>0.13</td>\n",
       "      <td>0.13</td>\n",
       "      <td>1,186,670</td>\n",
       "    </tr>\n",
       "    <tr>\n",
       "      <th>4</th>\n",
       "      <td>2017-09-24</td>\n",
       "      <td>0.13</td>\n",
       "      <td>0.19</td>\n",
       "      <td>0.13</td>\n",
       "      <td>0.17</td>\n",
       "      <td>0.17</td>\n",
       "      <td>1,025,740</td>\n",
       "    </tr>\n",
       "  </tbody>\n",
       "</table>\n",
       "</div>"
      ],
      "text/plain": [
       "        Date  Open  High   Low Close* Adj Close**     Volume\n",
       "0 2017-09-20  0.16  0.19  0.15   0.19        0.19  2,718,640\n",
       "1 2017-09-21  0.19  0.21  0.16   0.17        0.17  2,126,270\n",
       "2 2017-09-22  0.17  0.18  0.14   0.15        0.15  1,423,220\n",
       "3 2017-09-23  0.15  0.16  0.13   0.13        0.13  1,186,670\n",
       "4 2017-09-24  0.13  0.19  0.13   0.17        0.17  1,025,740"
      ]
     },
     "execution_count": 4,
     "metadata": {},
     "output_type": "execute_result"
    }
   ],
   "source": [
    "link_data.head()"
   ]
  },
  {
   "cell_type": "code",
   "execution_count": 5,
   "id": "ba5f23d3",
   "metadata": {},
   "outputs": [
    {
     "data": {
      "text/html": [
       "<div>\n",
       "<style scoped>\n",
       "    .dataframe tbody tr th:only-of-type {\n",
       "        vertical-align: middle;\n",
       "    }\n",
       "\n",
       "    .dataframe tbody tr th {\n",
       "        vertical-align: top;\n",
       "    }\n",
       "\n",
       "    .dataframe thead th {\n",
       "        text-align: right;\n",
       "    }\n",
       "</style>\n",
       "<table border=\"1\" class=\"dataframe\">\n",
       "  <thead>\n",
       "    <tr style=\"text-align: right;\">\n",
       "      <th></th>\n",
       "      <th>Date</th>\n",
       "      <th>Open</th>\n",
       "      <th>High</th>\n",
       "      <th>Low</th>\n",
       "      <th>Close*</th>\n",
       "      <th>Adj Close**</th>\n",
       "      <th>Volume</th>\n",
       "    </tr>\n",
       "  </thead>\n",
       "  <tbody>\n",
       "    <tr>\n",
       "      <th>0</th>\n",
       "      <td>2019-09-19</td>\n",
       "      <td>3.31</td>\n",
       "      <td>3.31</td>\n",
       "      <td>2.94</td>\n",
       "      <td>3.13</td>\n",
       "      <td>3.13</td>\n",
       "      <td>184,157,574</td>\n",
       "    </tr>\n",
       "    <tr>\n",
       "      <th>1</th>\n",
       "      <td>2019-09-20</td>\n",
       "      <td>3.14</td>\n",
       "      <td>3.26</td>\n",
       "      <td>3.08</td>\n",
       "      <td>3.18</td>\n",
       "      <td>3.18</td>\n",
       "      <td>148,024,573</td>\n",
       "    </tr>\n",
       "    <tr>\n",
       "      <th>2</th>\n",
       "      <td>2019-09-21</td>\n",
       "      <td>3.18</td>\n",
       "      <td>3.29</td>\n",
       "      <td>3.04</td>\n",
       "      <td>3.07</td>\n",
       "      <td>3.07</td>\n",
       "      <td>146,995,495</td>\n",
       "    </tr>\n",
       "    <tr>\n",
       "      <th>3</th>\n",
       "      <td>2019-09-22</td>\n",
       "      <td>3.07</td>\n",
       "      <td>3.08</td>\n",
       "      <td>2.81</td>\n",
       "      <td>2.91</td>\n",
       "      <td>2.91</td>\n",
       "      <td>140,188,583</td>\n",
       "    </tr>\n",
       "    <tr>\n",
       "      <th>4</th>\n",
       "      <td>2019-09-23</td>\n",
       "      <td>2.92</td>\n",
       "      <td>2.92</td>\n",
       "      <td>2.58</td>\n",
       "      <td>2.58</td>\n",
       "      <td>2.58</td>\n",
       "      <td>129,682,436</td>\n",
       "    </tr>\n",
       "  </tbody>\n",
       "</table>\n",
       "</div>"
      ],
      "text/plain": [
       "        Date  Open  High   Low Close* Adj Close**       Volume\n",
       "0 2019-09-19  3.31  3.31  2.94   3.13        3.13  184,157,574\n",
       "1 2019-09-20  3.14  3.26  3.08   3.18        3.18  148,024,573\n",
       "2 2019-09-21  3.18  3.29  3.04   3.07        3.07  146,995,495\n",
       "3 2019-09-22  3.07  3.08  2.81   2.91        2.91  140,188,583\n",
       "4 2019-09-23  2.92  2.92  2.58   2.58        2.58  129,682,436"
      ]
     },
     "execution_count": 5,
     "metadata": {},
     "output_type": "execute_result"
    }
   ],
   "source": [
    "atom1_data.head()"
   ]
  },
  {
   "cell_type": "code",
   "execution_count": 6,
   "id": "304e356d",
   "metadata": {},
   "outputs": [],
   "source": [
    "# Formatting columns function\n",
    "def cleaning(column):\n",
    "    column.replace(',', '', regex=True, inplace=True)\n",
    "    column.replace('-', '', regex=True, inplace=True)\n",
    "    column.replace(r'^\\s*$', np.nan, regex=True, inplace=True)"
   ]
  },
  {
   "cell_type": "markdown",
   "id": "d52ec54b",
   "metadata": {},
   "source": [
    "# SOLANA"
   ]
  },
  {
   "cell_type": "code",
   "execution_count": 8,
   "id": "d869267a",
   "metadata": {},
   "outputs": [],
   "source": [
    "# Dropping NA values from the data\n",
    "sol1_data = sol1_data.dropna(how='any',axis=0)"
   ]
  },
  {
   "cell_type": "code",
   "execution_count": 9,
   "id": "50c17f8c",
   "metadata": {},
   "outputs": [],
   "source": [
    "# Cleaning and changing the column value types \n",
    "cleaning(sol1_data[\"Open\"])\n",
    "sol1_data[\"Open\"] = sol1_data[\"Open\"].astype(\"float\")\n",
    "cleaning(sol1_data[\"Close*\"])\n",
    "sol1_data[\"Close*\"] = sol1_data['Close*'].astype(\"float\")\n",
    "cleaning(sol1_data[\"High\"])\n",
    "sol1_data[\"High\"] = sol1_data[\"High\"].astype(\"float\")\n",
    "cleaning(sol1_data[\"Low\"])\n",
    "sol1_data[\"Low\"] = sol1_data[\"Low\"].astype(\"float\")\n",
    "cleaning(sol1_data[\"Adj Close**\"])\n",
    "sol1_data[\"Adj Close**\"] = sol1_data[\"Adj Close**\"].astype(\"float\")\n",
    "cleaning(sol1_data[\"Volume\"])\n",
    "sol1_data[\"Volume\"] = sol1_data[\"Volume\"].astype(\"float\")"
   ]
  },
  {
   "cell_type": "code",
   "execution_count": 10,
   "id": "5146214c",
   "metadata": {},
   "outputs": [
    {
     "data": {
      "text/plain": [
       "Date           datetime64[ns]\n",
       "Open                  float64\n",
       "High                  float64\n",
       "Low                   float64\n",
       "Close*                float64\n",
       "Adj Close**           float64\n",
       "Volume                float64\n",
       "dtype: object"
      ]
     },
     "execution_count": 10,
     "metadata": {},
     "output_type": "execute_result"
    }
   ],
   "source": [
    "sol1_data.dtypes"
   ]
  },
  {
   "cell_type": "markdown",
   "id": "4e588f0c",
   "metadata": {},
   "source": [
    "# CHAINLINK"
   ]
  },
  {
   "cell_type": "code",
   "execution_count": 11,
   "id": "41a333e5",
   "metadata": {},
   "outputs": [],
   "source": [
    "# Dropping NA values from the data\n",
    "link_data = link_data.dropna(how='any',axis=0)"
   ]
  },
  {
   "cell_type": "code",
   "execution_count": 12,
   "id": "98359f9c",
   "metadata": {},
   "outputs": [],
   "source": [
    "# Cleaning and changing the column value types \n",
    "cleaning(link_data[\"Open\"])\n",
    "link_data[\"Open\"] = link_data[\"Open\"].astype(\"float\")\n",
    "cleaning(link_data[\"Close*\"])\n",
    "link_data[\"Close*\"] = link_data['Close*'].astype(\"float\")\n",
    "cleaning(link_data[\"High\"])\n",
    "link_data[\"High\"] = link_data[\"High\"].astype(\"float\")\n",
    "cleaning(link_data[\"Low\"])\n",
    "link_data[\"Low\"] = link_data[\"Low\"].astype(\"float\")\n",
    "cleaning(link_data[\"Adj Close**\"])\n",
    "link_data[\"Adj Close**\"] = link_data[\"Adj Close**\"].astype(\"float\")\n",
    "cleaning(link_data[\"Volume\"])\n",
    "link_data[\"Volume\"] = link_data[\"Volume\"].astype(\"float\")"
   ]
  },
  {
   "cell_type": "code",
   "execution_count": 13,
   "id": "21ea6672",
   "metadata": {},
   "outputs": [
    {
     "data": {
      "text/plain": [
       "Date           datetime64[ns]\n",
       "Open                  float64\n",
       "High                  float64\n",
       "Low                   float64\n",
       "Close*                float64\n",
       "Adj Close**           float64\n",
       "Volume                float64\n",
       "dtype: object"
      ]
     },
     "execution_count": 13,
     "metadata": {},
     "output_type": "execute_result"
    }
   ],
   "source": [
    "link_data.dtypes"
   ]
  },
  {
   "cell_type": "markdown",
   "id": "ad8c602a",
   "metadata": {},
   "source": [
    "# COSMOS"
   ]
  },
  {
   "cell_type": "code",
   "execution_count": 14,
   "id": "e0f2c9b5",
   "metadata": {},
   "outputs": [],
   "source": [
    "# Dropping NA values from the data\n",
    "atom1_data = atom1_data.dropna(how='any',axis=0)"
   ]
  },
  {
   "cell_type": "code",
   "execution_count": 15,
   "id": "ce15aeea",
   "metadata": {},
   "outputs": [],
   "source": [
    "# Cleaning and changing the column value types \n",
    "cleaning(atom1_data[\"Open\"])\n",
    "atom1_data[\"Open\"] = atom1_data[\"Open\"].astype(\"float\")\n",
    "cleaning(atom1_data[\"Close*\"])\n",
    "atom1_data[\"Close*\"] = atom1_data['Close*'].astype(\"float\")\n",
    "cleaning(atom1_data[\"High\"])\n",
    "atom1_data[\"High\"] = atom1_data[\"High\"].astype(\"float\")\n",
    "cleaning(atom1_data[\"Low\"])\n",
    "atom1_data[\"Low\"] = atom1_data[\"Low\"].astype(\"float\")\n",
    "cleaning(atom1_data[\"Adj Close**\"])\n",
    "atom1_data[\"Adj Close**\"] = atom1_data[\"Adj Close**\"].astype(\"float\")\n",
    "cleaning(atom1_data[\"Volume\"])\n",
    "atom1_data[\"Volume\"] = atom1_data[\"Volume\"].astype(\"float\")"
   ]
  },
  {
   "cell_type": "code",
   "execution_count": 16,
   "id": "bd1541cb",
   "metadata": {},
   "outputs": [
    {
     "data": {
      "text/plain": [
       "Date           datetime64[ns]\n",
       "Open                  float64\n",
       "High                  float64\n",
       "Low                   float64\n",
       "Close*                float64\n",
       "Adj Close**           float64\n",
       "Volume                float64\n",
       "dtype: object"
      ]
     },
     "execution_count": 16,
     "metadata": {},
     "output_type": "execute_result"
    }
   ],
   "source": [
    "atom1_data.dtypes"
   ]
  },
  {
   "cell_type": "code",
   "execution_count": null,
   "id": "c635bcae",
   "metadata": {},
   "outputs": [],
   "source": []
  }
 ],
 "metadata": {
  "kernelspec": {
   "display_name": "Python 3-PythonData",
   "language": "python",
   "name": "python3"
  },
  "language_info": {
   "codemirror_mode": {
    "name": "ipython",
    "version": 3
   },
   "file_extension": ".py",
   "mimetype": "text/x-python",
   "name": "python",
   "nbconvert_exporter": "python",
   "pygments_lexer": "ipython3",
   "version": "3.7.10"
  },
  "varInspector": {
   "cols": {
    "lenName": 16,
    "lenType": 16,
    "lenVar": 40
   },
   "kernels_config": {
    "python": {
     "delete_cmd_postfix": "",
     "delete_cmd_prefix": "del ",
     "library": "var_list.py",
     "varRefreshCmd": "print(var_dic_list())"
    },
    "r": {
     "delete_cmd_postfix": ") ",
     "delete_cmd_prefix": "rm(",
     "library": "var_list.r",
     "varRefreshCmd": "cat(var_dic_list()) "
    }
   },
   "types_to_exclude": [
    "module",
    "function",
    "builtin_function_or_method",
    "instance",
    "_Feature"
   ],
   "window_display": false
  }
 },
 "nbformat": 4,
 "nbformat_minor": 5
}
