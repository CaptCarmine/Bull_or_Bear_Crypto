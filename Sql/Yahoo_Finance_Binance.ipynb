{
 "cells": [
  {
   "cell_type": "code",
   "execution_count": 16,
   "id": "26ef5cdb",
   "metadata": {},
   "outputs": [],
   "source": [
    "# Imports to load from subdirectories\n",
    "import sys\n",
    "sys.path.insert(0, './load')\n",
    "\n",
    "# Imports for the YF scraper \n",
    "from Yahoo_Finance_Scraper import get_historical_data\n",
    "from webdriver_manager.chrome import ChromeDriverManager\n",
    "from splinter import Browser\n",
    "import numpy as np"
   ]
  },
  {
   "cell_type": "code",
   "execution_count": 20,
   "id": "a40f9dd1",
   "metadata": {},
   "outputs": [
    {
     "name": "stderr",
     "output_type": "stream",
     "text": [
      "\n",
      "\n",
      "====== WebDriver manager ======\n",
      "Current google-chrome version is 94.0.4606\n",
      "Get LATEST driver version for 94.0.4606\n",
      "Driver [C:\\Users\\19125\\.wdm\\drivers\\chromedriver\\win32\\94.0.4606.61\\chromedriver.exe] found in cache\n"
     ]
    },
    {
     "name": "stdout",
     "output_type": "stream",
     "text": [
      "(2571, 7) (1529, 7) (2571, 7)\n"
     ]
    }
   ],
   "source": [
    "# Minimal code to run it\n",
    "executable_path = {'executable_path': ChromeDriverManager().install()}\n",
    "browser = Browser('chrome', **executable_path, headless = True)\n",
    "xrp_data = get_historical_data(browser, 'XRP-USD', '9/17/2014', '9/29/2021')\n",
    "bnb_data = get_historical_data(browser, 'BNB-USD', '9/17/2014', '9/29/2021') \n",
    "ltc_data = get_historical_data(browser, 'LTC-USD', '9/17/2014', '9/29/2021')\n",
    "browser.quit()\n",
    "print(btc_data.shape, eth_data.shape, ada_data.shape)"
   ]
  },
  {
   "cell_type": "code",
   "execution_count": 21,
   "id": "86e55047",
   "metadata": {},
   "outputs": [
    {
     "data": {
      "text/html": [
       "<div>\n",
       "<style scoped>\n",
       "    .dataframe tbody tr th:only-of-type {\n",
       "        vertical-align: middle;\n",
       "    }\n",
       "\n",
       "    .dataframe tbody tr th {\n",
       "        vertical-align: top;\n",
       "    }\n",
       "\n",
       "    .dataframe thead th {\n",
       "        text-align: right;\n",
       "    }\n",
       "</style>\n",
       "<table border=\"1\" class=\"dataframe\">\n",
       "  <thead>\n",
       "    <tr style=\"text-align: right;\">\n",
       "      <th></th>\n",
       "      <th>Date</th>\n",
       "      <th>Open</th>\n",
       "      <th>High</th>\n",
       "      <th>Low</th>\n",
       "      <th>Close*</th>\n",
       "      <th>Adj Close**</th>\n",
       "      <th>Volume</th>\n",
       "    </tr>\n",
       "  </thead>\n",
       "  <tbody>\n",
       "    <tr>\n",
       "      <th>0</th>\n",
       "      <td>2014-09-17</td>\n",
       "      <td>0.0051</td>\n",
       "      <td>0.0058</td>\n",
       "      <td>0.0051</td>\n",
       "      <td>0.0054</td>\n",
       "      <td>0.0054</td>\n",
       "      <td>1,281,960</td>\n",
       "    </tr>\n",
       "    <tr>\n",
       "      <th>1</th>\n",
       "      <td>2014-09-18</td>\n",
       "      <td>0.0054</td>\n",
       "      <td>0.0055</td>\n",
       "      <td>0.0051</td>\n",
       "      <td>0.0051</td>\n",
       "      <td>0.0051</td>\n",
       "      <td>491,147</td>\n",
       "    </tr>\n",
       "    <tr>\n",
       "      <th>2</th>\n",
       "      <td>2014-09-19</td>\n",
       "      <td>0.0051</td>\n",
       "      <td>0.0052</td>\n",
       "      <td>0.0049</td>\n",
       "      <td>0.0049</td>\n",
       "      <td>0.0049</td>\n",
       "      <td>407,109</td>\n",
       "    </tr>\n",
       "    <tr>\n",
       "      <th>3</th>\n",
       "      <td>2014-09-20</td>\n",
       "      <td>0.0049</td>\n",
       "      <td>0.0050</td>\n",
       "      <td>0.0047</td>\n",
       "      <td>0.0048</td>\n",
       "      <td>0.0048</td>\n",
       "      <td>322,621</td>\n",
       "    </tr>\n",
       "    <tr>\n",
       "      <th>4</th>\n",
       "      <td>2014-09-21</td>\n",
       "      <td>0.0048</td>\n",
       "      <td>0.0048</td>\n",
       "      <td>0.0045</td>\n",
       "      <td>0.0046</td>\n",
       "      <td>0.0046</td>\n",
       "      <td>309,571</td>\n",
       "    </tr>\n",
       "  </tbody>\n",
       "</table>\n",
       "</div>"
      ],
      "text/plain": [
       "        Date    Open    High     Low  Close* Adj Close**     Volume\n",
       "0 2014-09-17  0.0051  0.0058  0.0051  0.0054      0.0054  1,281,960\n",
       "1 2014-09-18  0.0054  0.0055  0.0051  0.0051      0.0051    491,147\n",
       "2 2014-09-19  0.0051  0.0052  0.0049  0.0049      0.0049    407,109\n",
       "3 2014-09-20  0.0049  0.0050  0.0047  0.0048      0.0048    322,621\n",
       "4 2014-09-21  0.0048  0.0048  0.0045  0.0046      0.0046    309,571"
      ]
     },
     "execution_count": 21,
     "metadata": {},
     "output_type": "execute_result"
    }
   ],
   "source": [
    "xrp_data.head()"
   ]
  },
  {
   "cell_type": "code",
   "execution_count": 23,
   "id": "f15ed7f4",
   "metadata": {},
   "outputs": [
    {
     "data": {
      "text/html": [
       "<div>\n",
       "<style scoped>\n",
       "    .dataframe tbody tr th:only-of-type {\n",
       "        vertical-align: middle;\n",
       "    }\n",
       "\n",
       "    .dataframe tbody tr th {\n",
       "        vertical-align: top;\n",
       "    }\n",
       "\n",
       "    .dataframe thead th {\n",
       "        text-align: right;\n",
       "    }\n",
       "</style>\n",
       "<table border=\"1\" class=\"dataframe\">\n",
       "  <thead>\n",
       "    <tr style=\"text-align: right;\">\n",
       "      <th></th>\n",
       "      <th>Date</th>\n",
       "      <th>Open</th>\n",
       "      <th>High</th>\n",
       "      <th>Low</th>\n",
       "      <th>Close*</th>\n",
       "      <th>Adj Close**</th>\n",
       "      <th>Volume</th>\n",
       "    </tr>\n",
       "  </thead>\n",
       "  <tbody>\n",
       "    <tr>\n",
       "      <th>0</th>\n",
       "      <td>2017-07-25</td>\n",
       "      <td>0.12</td>\n",
       "      <td>0.12</td>\n",
       "      <td>0.10</td>\n",
       "      <td>0.11</td>\n",
       "      <td>0.11</td>\n",
       "      <td>145,269</td>\n",
       "    </tr>\n",
       "    <tr>\n",
       "      <th>1</th>\n",
       "      <td>2017-07-26</td>\n",
       "      <td>0.11</td>\n",
       "      <td>0.11</td>\n",
       "      <td>0.10</td>\n",
       "      <td>0.11</td>\n",
       "      <td>0.11</td>\n",
       "      <td>200,395</td>\n",
       "    </tr>\n",
       "    <tr>\n",
       "      <th>2</th>\n",
       "      <td>2017-07-27</td>\n",
       "      <td>0.11</td>\n",
       "      <td>0.11</td>\n",
       "      <td>0.10</td>\n",
       "      <td>0.11</td>\n",
       "      <td>0.11</td>\n",
       "      <td>344,499</td>\n",
       "    </tr>\n",
       "    <tr>\n",
       "      <th>3</th>\n",
       "      <td>2017-07-28</td>\n",
       "      <td>0.11</td>\n",
       "      <td>0.11</td>\n",
       "      <td>0.10</td>\n",
       "      <td>0.10</td>\n",
       "      <td>0.10</td>\n",
       "      <td>342,568</td>\n",
       "    </tr>\n",
       "    <tr>\n",
       "      <th>4</th>\n",
       "      <td>2017-07-29</td>\n",
       "      <td>0.10</td>\n",
       "      <td>0.11</td>\n",
       "      <td>0.10</td>\n",
       "      <td>0.11</td>\n",
       "      <td>0.11</td>\n",
       "      <td>340,218</td>\n",
       "    </tr>\n",
       "  </tbody>\n",
       "</table>\n",
       "</div>"
      ],
      "text/plain": [
       "        Date  Open  High   Low Close* Adj Close**   Volume\n",
       "0 2017-07-25  0.12  0.12  0.10   0.11        0.11  145,269\n",
       "1 2017-07-26  0.11  0.11  0.10   0.11        0.11  200,395\n",
       "2 2017-07-27  0.11  0.11  0.10   0.11        0.11  344,499\n",
       "3 2017-07-28  0.11  0.11  0.10   0.10        0.10  342,568\n",
       "4 2017-07-29  0.10  0.11  0.10   0.11        0.11  340,218"
      ]
     },
     "execution_count": 23,
     "metadata": {},
     "output_type": "execute_result"
    }
   ],
   "source": [
    "bnb_data.head()"
   ]
  },
  {
   "cell_type": "code",
   "execution_count": null,
   "id": "050548f0",
   "metadata": {},
   "outputs": [],
   "source": [
    "ltc_data.head()"
   ]
  },
  {
   "cell_type": "code",
   "execution_count": 24,
   "id": "4548b1fd",
   "metadata": {},
   "outputs": [],
   "source": [
    "# Formatting columns function\n",
    "def cleaning(column):\n",
    "    column.replace(',', '', regex=True, inplace=True)\n",
    "    column.replace('-', '', regex=True, inplace=True)\n",
    "    column.replace(r'^\\s*$', np.nan, regex=True, inplace=True)"
   ]
  },
  {
   "cell_type": "markdown",
   "id": "d096a3aa",
   "metadata": {},
   "source": [
    "# Ripple"
   ]
  },
  {
   "cell_type": "code",
   "execution_count": 25,
   "id": "e4942702",
   "metadata": {},
   "outputs": [],
   "source": [
    "# Dropping NA values from the data\n",
    "xrp_data = xrp_data.dropna(how='any',axis=0) "
   ]
  },
  {
   "cell_type": "code",
   "execution_count": 26,
   "id": "98010fa3",
   "metadata": {},
   "outputs": [],
   "source": [
    "# Cleaning and changing the column value types \n",
    "cleaning(btc_data[\"Open\"])\n",
    "xrp_data[\"Open\"] = btc_data[\"Open\"].astype(\"float\")\n",
    "cleaning(btc_data[\"Close*\"])\n",
    "xrp_data[\"Close*\"] = btc_data['Close*'].astype(\"float\")\n",
    "cleaning(btc_data[\"High\"])\n",
    "xrp_data[\"High\"] = btc_data[\"High\"].astype(\"float\")\n",
    "cleaning(btc_data[\"Low\"])\n",
    "xrp_data[\"Low\"] = btc_data[\"Low\"].astype(\"float\")\n",
    "cleaning(btc_data[\"Adj Close**\"])\n",
    "xrp_data[\"Adj Close**\"] = btc_data[\"Adj Close**\"].astype(\"float\")\n",
    "cleaning(btc_data[\"Volume\"])\n",
    "xrp_data[\"Volume\"] = btc_data[\"Volume\"].astype(\"float\")"
   ]
  },
  {
   "cell_type": "code",
   "execution_count": 27,
   "id": "85199b99",
   "metadata": {},
   "outputs": [
    {
     "data": {
      "text/plain": [
       "Date           datetime64[ns]\n",
       "Open                  float64\n",
       "High                  float64\n",
       "Low                   float64\n",
       "Close*                float64\n",
       "Adj Close**           float64\n",
       "Volume                float64\n",
       "dtype: object"
      ]
     },
     "execution_count": 27,
     "metadata": {},
     "output_type": "execute_result"
    }
   ],
   "source": [
    "xrp_data.dtypes"
   ]
  },
  {
   "cell_type": "markdown",
   "id": "823d11b7",
   "metadata": {},
   "source": [
    "# Binance Coin\n"
   ]
  },
  {
   "cell_type": "code",
   "execution_count": 29,
   "id": "c49e5173",
   "metadata": {},
   "outputs": [],
   "source": [
    "# Dropping NA values from the data\n",
    "bnb_data = eth_data.dropna(how='any',axis=0) "
   ]
  },
  {
   "cell_type": "code",
   "execution_count": 30,
   "id": "416632bd",
   "metadata": {},
   "outputs": [],
   "source": [
    "# Cleaning and changing the column value types \n",
    "cleaning(eth_data[\"Open\"])\n",
    "bnb_data[\"Open\"] = eth_data[\"Open\"].astype(\"float\")\n",
    "cleaning(eth_data[\"Close*\"])\n",
    "bnb_data[\"Close*\"] = eth_data['Close*'].astype(\"float\")\n",
    "cleaning(eth_data[\"High\"])\n",
    "bnb_data[\"High\"] = eth_data[\"High\"].astype(\"float\")\n",
    "cleaning(eth_data[\"Low\"])\n",
    "bnb_data[\"Low\"] = eth_data[\"Low\"].astype(\"float\")\n",
    "cleaning(eth_data[\"Adj Close**\"])\n",
    "bnb_data[\"Adj Close**\"] = eth_data[\"Adj Close**\"].astype(\"float\")\n",
    "cleaning(eth_data[\"Volume\"])\n",
    "bnb_data[\"Volume\"] = eth_data[\"Volume\"].astype(\"float\")"
   ]
  },
  {
   "cell_type": "code",
   "execution_count": 31,
   "id": "c80f10bc",
   "metadata": {},
   "outputs": [
    {
     "data": {
      "text/plain": [
       "Date           datetime64[ns]\n",
       "Open                  float64\n",
       "High                  float64\n",
       "Low                   float64\n",
       "Close*                float64\n",
       "Adj Close**           float64\n",
       "Volume                float64\n",
       "dtype: object"
      ]
     },
     "execution_count": 31,
     "metadata": {},
     "output_type": "execute_result"
    }
   ],
   "source": [
    "bnb_data.dtypes"
   ]
  },
  {
   "cell_type": "markdown",
   "id": "25f29a8a",
   "metadata": {},
   "source": [
    "# Lite Coin"
   ]
  },
  {
   "cell_type": "code",
   "execution_count": 32,
   "id": "ee82b0f5",
   "metadata": {},
   "outputs": [],
   "source": [
    "# Dropping NA values from the data\n",
    "ltc_data = ada_data.dropna(how='any',axis=0) "
   ]
  },
  {
   "cell_type": "code",
   "execution_count": 33,
   "id": "106124a0",
   "metadata": {},
   "outputs": [],
   "source": [
    "# Cleaning and changing the column value types \n",
    "cleaning(eth_data[\"Open\"])\n",
    "ltc_data[\"Open\"] = eth_data[\"Open\"].astype(\"float\")\n",
    "cleaning(eth_data[\"Close*\"])\n",
    "ltc_data[\"Close*\"] = eth_data['Close*'].astype(\"float\")\n",
    "cleaning(eth_data[\"High\"])\n",
    "ltc_data[\"High\"] = eth_data[\"High\"].astype(\"float\")\n",
    "cleaning(eth_data[\"Low\"])\n",
    "ltc_data[\"Low\"] = eth_data[\"Low\"].astype(\"float\")\n",
    "cleaning(eth_data[\"Adj Close**\"])\n",
    "ltc_data[\"Adj Close**\"] = eth_data[\"Adj Close**\"].astype(\"float\")\n",
    "cleaning(eth_data[\"Volume\"])\n",
    "ltc_data[\"Volume\"] = eth_data[\"Volume\"].astype(\"float\")"
   ]
  },
  {
   "cell_type": "code",
   "execution_count": 34,
   "id": "014fcaec",
   "metadata": {},
   "outputs": [
    {
     "data": {
      "text/plain": [
       "Date           datetime64[ns]\n",
       "Open                  float64\n",
       "High                  float64\n",
       "Low                   float64\n",
       "Close*                float64\n",
       "Adj Close**           float64\n",
       "Volume                float64\n",
       "dtype: object"
      ]
     },
     "execution_count": 34,
     "metadata": {},
     "output_type": "execute_result"
    }
   ],
   "source": [
    "ltc_data.dtypes"
   ]
  },
  {
   "cell_type": "code",
   "execution_count": null,
   "id": "68475e9b",
   "metadata": {},
   "outputs": [],
   "source": []
  }
 ],
 "metadata": {
  "kernelspec": {
   "display_name": "Python 3-PythonData",
   "language": "python",
   "name": "python3"
  },
  "language_info": {
   "codemirror_mode": {
    "name": "ipython",
    "version": 3
   },
   "file_extension": ".py",
   "mimetype": "text/x-python",
   "name": "python",
   "nbconvert_exporter": "python",
   "pygments_lexer": "ipython3",
   "version": "3.7.10"
  },
  "varInspector": {
   "cols": {
    "lenName": 16,
    "lenType": 16,
    "lenVar": 40
   },
   "kernels_config": {
    "python": {
     "delete_cmd_postfix": "",
     "delete_cmd_prefix": "del ",
     "library": "var_list.py",
     "varRefreshCmd": "print(var_dic_list())"
    },
    "r": {
     "delete_cmd_postfix": ") ",
     "delete_cmd_prefix": "rm(",
     "library": "var_list.r",
     "varRefreshCmd": "cat(var_dic_list()) "
    }
   },
   "types_to_exclude": [
    "module",
    "function",
    "builtin_function_or_method",
    "instance",
    "_Feature"
   ],
   "window_display": false
  }
 },
 "nbformat": 4,
 "nbformat_minor": 5
}
