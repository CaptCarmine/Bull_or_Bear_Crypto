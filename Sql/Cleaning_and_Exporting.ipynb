{
 "cells": [
  {
   "cell_type": "markdown",
   "source": [
    "# Cleaning and Exporting to CSV"
   ],
   "metadata": {}
  },
  {
   "cell_type": "code",
   "execution_count": 1,
   "source": [
    "# Imports to load from subdirectories\n",
    "import sys\n",
    "sys.path.insert(0, './load')\n",
    "\n",
    "# Imports for the YF scraper \n",
    "from Yahoo_Finance_Scraper import get_historical_data\n",
    "from webdriver_manager.chrome import ChromeDriverManager\n",
    "from splinter import Browser\n",
    "import numpy as np"
   ],
   "outputs": [],
   "metadata": {}
  },
  {
   "cell_type": "code",
   "execution_count": 2,
   "source": [
    "# Minimal code to run it\n",
    "executable_path = {'executable_path': ChromeDriverManager().install()}\n",
    "browser = Browser('chrome', **executable_path, headless = True)\n",
    "btc_data = get_historical_data(browser, 'BTC-USD', '9/17/2014', '9/29/2021')\n",
    "eth_data = get_historical_data(browser, 'ETH-USD', '9/17/2014', '9/29/2021') \n",
    "ada_data = get_historical_data(browser, 'ADA-USD', '9/17/2014', '9/29/2021')\n",
    "xrp_data = get_historical_data(browser, 'XRP-USD', '9/17/2014', '9/29/2021')\n",
    "bnb_data = get_historical_data(browser, 'BNB-USD', '9/17/2014', '9/29/2021') \n",
    "ltc_data = get_historical_data(browser, 'LTC-USD', '9/17/2014', '9/29/2021')\n",
    "doge_data = get_historical_data(browser, 'DOGE-USD', '9/17/2014', '9/29/2021')\n",
    "dot1_data = get_historical_data(browser, 'DOT1-USD', '9/17/2014', '9/29/2021') \n",
    "etc_data = get_historical_data(browser, 'ETC-USD', '9/17/2014', '9/29/2021')\n",
    "sol1_data = get_historical_data(browser, 'SOL1-USD', '9/17/2014', '9/29/2021')\n",
    "link_data = get_historical_data(browser, 'LINK-USD', '9/17/2014', '9/29/2021') \n",
    "atom1_data = get_historical_data(browser, 'ATOM1-USD', '9/17/2014', '9/29/2021')\n",
    "browser.quit()\n",
    "print(btc_data.shape, eth_data.shape, ada_data.shape)"
   ],
   "outputs": [
    {
     "output_type": "stream",
     "name": "stderr",
     "text": [
      "\n",
      "\n",
      "====== WebDriver manager ======\n",
      "Current google-chrome version is 94.0.4606\n",
      "Get LATEST driver version for 94.0.4606\n",
      "Driver [/Users/albertomontilla/.wdm/drivers/chromedriver/mac64/94.0.4606.61/chromedriver] found in cache\n"
     ]
    },
    {
     "output_type": "stream",
     "name": "stdout",
     "text": [
      "(2571, 7) (2247, 7) (1461, 7)\n"
     ]
    }
   ],
   "metadata": {}
  },
  {
   "cell_type": "code",
   "execution_count": 17,
   "source": [
    "btc_data.tail()"
   ],
   "outputs": [
    {
     "output_type": "execute_result",
     "data": {
      "text/html": [
       "<div>\n",
       "<style scoped>\n",
       "    .dataframe tbody tr th:only-of-type {\n",
       "        vertical-align: middle;\n",
       "    }\n",
       "\n",
       "    .dataframe tbody tr th {\n",
       "        vertical-align: top;\n",
       "    }\n",
       "\n",
       "    .dataframe thead th {\n",
       "        text-align: right;\n",
       "    }\n",
       "</style>\n",
       "<table border=\"1\" class=\"dataframe\">\n",
       "  <thead>\n",
       "    <tr style=\"text-align: right;\">\n",
       "      <th></th>\n",
       "      <th>Date</th>\n",
       "      <th>Open</th>\n",
       "      <th>High</th>\n",
       "      <th>Low</th>\n",
       "      <th>Close*</th>\n",
       "      <th>Adj Close**</th>\n",
       "      <th>Volume</th>\n",
       "    </tr>\n",
       "  </thead>\n",
       "  <tbody>\n",
       "    <tr>\n",
       "      <th>2566</th>\n",
       "      <td>2021-09-25</td>\n",
       "      <td>42,840.89</td>\n",
       "      <td>42,996.26</td>\n",
       "      <td>41,759.92</td>\n",
       "      <td>42,716.59</td>\n",
       "      <td>42,716.59</td>\n",
       "      <td>31,604,717,236</td>\n",
       "    </tr>\n",
       "    <tr>\n",
       "      <th>2567</th>\n",
       "      <td>2021-09-26</td>\n",
       "      <td>42,721.63</td>\n",
       "      <td>43,919.30</td>\n",
       "      <td>40,848.46</td>\n",
       "      <td>43,208.54</td>\n",
       "      <td>43,208.54</td>\n",
       "      <td>30,661,222,077</td>\n",
       "    </tr>\n",
       "    <tr>\n",
       "      <th>2568</th>\n",
       "      <td>2021-09-27</td>\n",
       "      <td>43,234.18</td>\n",
       "      <td>44,313.25</td>\n",
       "      <td>42,190.63</td>\n",
       "      <td>42,235.73</td>\n",
       "      <td>42,235.73</td>\n",
       "      <td>30,980,029,059</td>\n",
       "    </tr>\n",
       "    <tr>\n",
       "      <th>2569</th>\n",
       "      <td>2021-09-28</td>\n",
       "      <td>42,200.90</td>\n",
       "      <td>42,775.14</td>\n",
       "      <td>40,931.66</td>\n",
       "      <td>41,034.54</td>\n",
       "      <td>41,034.54</td>\n",
       "      <td>30,214,940,550</td>\n",
       "    </tr>\n",
       "    <tr>\n",
       "      <th>2570</th>\n",
       "      <td>2021-09-29</td>\n",
       "      <td>41,064.98</td>\n",
       "      <td>42,545.26</td>\n",
       "      <td>40,829.67</td>\n",
       "      <td>41,564.36</td>\n",
       "      <td>41,564.36</td>\n",
       "      <td>30,602,359,905</td>\n",
       "    </tr>\n",
       "  </tbody>\n",
       "</table>\n",
       "</div>"
      ],
      "text/plain": [
       "           Date       Open       High        Low     Close* Adj Close**  \\\n",
       "2566 2021-09-25  42,840.89  42,996.26  41,759.92  42,716.59   42,716.59   \n",
       "2567 2021-09-26  42,721.63  43,919.30  40,848.46  43,208.54   43,208.54   \n",
       "2568 2021-09-27  43,234.18  44,313.25  42,190.63  42,235.73   42,235.73   \n",
       "2569 2021-09-28  42,200.90  42,775.14  40,931.66  41,034.54   41,034.54   \n",
       "2570 2021-09-29  41,064.98  42,545.26  40,829.67  41,564.36   41,564.36   \n",
       "\n",
       "              Volume  \n",
       "2566  31,604,717,236  \n",
       "2567  30,661,222,077  \n",
       "2568  30,980,029,059  \n",
       "2569  30,214,940,550  \n",
       "2570  30,602,359,905  "
      ]
     },
     "metadata": {},
     "execution_count": 17
    }
   ],
   "metadata": {}
  },
  {
   "cell_type": "code",
   "execution_count": 18,
   "source": [
    "eth_data.tail()"
   ],
   "outputs": [
    {
     "output_type": "execute_result",
     "data": {
      "text/html": [
       "<div>\n",
       "<style scoped>\n",
       "    .dataframe tbody tr th:only-of-type {\n",
       "        vertical-align: middle;\n",
       "    }\n",
       "\n",
       "    .dataframe tbody tr th {\n",
       "        vertical-align: top;\n",
       "    }\n",
       "\n",
       "    .dataframe thead th {\n",
       "        text-align: right;\n",
       "    }\n",
       "</style>\n",
       "<table border=\"1\" class=\"dataframe\">\n",
       "  <thead>\n",
       "    <tr style=\"text-align: right;\">\n",
       "      <th></th>\n",
       "      <th>Date</th>\n",
       "      <th>Open</th>\n",
       "      <th>High</th>\n",
       "      <th>Low</th>\n",
       "      <th>Close*</th>\n",
       "      <th>Adj Close**</th>\n",
       "      <th>Volume</th>\n",
       "    </tr>\n",
       "  </thead>\n",
       "  <tbody>\n",
       "    <tr>\n",
       "      <th>2242</th>\n",
       "      <td>2021-09-25</td>\n",
       "      <td>2,930.88</td>\n",
       "      <td>2,968.99</td>\n",
       "      <td>2,818.97</td>\n",
       "      <td>2,925.57</td>\n",
       "      <td>2,925.57</td>\n",
       "      <td>18,932,786,754</td>\n",
       "    </tr>\n",
       "    <tr>\n",
       "      <th>2243</th>\n",
       "      <td>2021-09-26</td>\n",
       "      <td>2,926.34</td>\n",
       "      <td>3,114.86</td>\n",
       "      <td>2,744.58</td>\n",
       "      <td>3,062.27</td>\n",
       "      <td>3,062.27</td>\n",
       "      <td>21,172,766,310</td>\n",
       "    </tr>\n",
       "    <tr>\n",
       "      <th>2244</th>\n",
       "      <td>2021-09-27</td>\n",
       "      <td>3,065.84</td>\n",
       "      <td>3,163.67</td>\n",
       "      <td>2,932.69</td>\n",
       "      <td>2,934.14</td>\n",
       "      <td>2,934.14</td>\n",
       "      <td>19,164,053,681</td>\n",
       "    </tr>\n",
       "    <tr>\n",
       "      <th>2245</th>\n",
       "      <td>2021-09-28</td>\n",
       "      <td>2,928.96</td>\n",
       "      <td>2,970.77</td>\n",
       "      <td>2,793.36</td>\n",
       "      <td>2,807.30</td>\n",
       "      <td>2,807.30</td>\n",
       "      <td>16,895,079,070</td>\n",
       "    </tr>\n",
       "    <tr>\n",
       "      <th>2246</th>\n",
       "      <td>2021-09-29</td>\n",
       "      <td>2,809.30</td>\n",
       "      <td>2,946.88</td>\n",
       "      <td>2,786.99</td>\n",
       "      <td>2,853.14</td>\n",
       "      <td>2,853.14</td>\n",
       "      <td>15,763,456,158</td>\n",
       "    </tr>\n",
       "  </tbody>\n",
       "</table>\n",
       "</div>"
      ],
      "text/plain": [
       "           Date      Open      High       Low    Close* Adj Close**  \\\n",
       "2242 2021-09-25  2,930.88  2,968.99  2,818.97  2,925.57    2,925.57   \n",
       "2243 2021-09-26  2,926.34  3,114.86  2,744.58  3,062.27    3,062.27   \n",
       "2244 2021-09-27  3,065.84  3,163.67  2,932.69  2,934.14    2,934.14   \n",
       "2245 2021-09-28  2,928.96  2,970.77  2,793.36  2,807.30    2,807.30   \n",
       "2246 2021-09-29  2,809.30  2,946.88  2,786.99  2,853.14    2,853.14   \n",
       "\n",
       "              Volume  \n",
       "2242  18,932,786,754  \n",
       "2243  21,172,766,310  \n",
       "2244  19,164,053,681  \n",
       "2245  16,895,079,070  \n",
       "2246  15,763,456,158  "
      ]
     },
     "metadata": {},
     "execution_count": 18
    }
   ],
   "metadata": {}
  },
  {
   "cell_type": "code",
   "execution_count": 19,
   "source": [
    "ada_data.head()"
   ],
   "outputs": [
    {
     "output_type": "execute_result",
     "data": {
      "text/html": [
       "<div>\n",
       "<style scoped>\n",
       "    .dataframe tbody tr th:only-of-type {\n",
       "        vertical-align: middle;\n",
       "    }\n",
       "\n",
       "    .dataframe tbody tr th {\n",
       "        vertical-align: top;\n",
       "    }\n",
       "\n",
       "    .dataframe thead th {\n",
       "        text-align: right;\n",
       "    }\n",
       "</style>\n",
       "<table border=\"1\" class=\"dataframe\">\n",
       "  <thead>\n",
       "    <tr style=\"text-align: right;\">\n",
       "      <th></th>\n",
       "      <th>Date</th>\n",
       "      <th>Open</th>\n",
       "      <th>High</th>\n",
       "      <th>Low</th>\n",
       "      <th>Close*</th>\n",
       "      <th>Adj Close**</th>\n",
       "      <th>Volume</th>\n",
       "    </tr>\n",
       "  </thead>\n",
       "  <tbody>\n",
       "    <tr>\n",
       "      <th>0</th>\n",
       "      <td>2017-10-01</td>\n",
       "      <td>0.0217</td>\n",
       "      <td>0.0322</td>\n",
       "      <td>0.0174</td>\n",
       "      <td>0.0250</td>\n",
       "      <td>0.0250</td>\n",
       "      <td>50,068,700</td>\n",
       "    </tr>\n",
       "    <tr>\n",
       "      <th>1</th>\n",
       "      <td>2017-10-02</td>\n",
       "      <td>0.0246</td>\n",
       "      <td>0.0301</td>\n",
       "      <td>0.0200</td>\n",
       "      <td>0.0259</td>\n",
       "      <td>0.0259</td>\n",
       "      <td>57,641,300</td>\n",
       "    </tr>\n",
       "    <tr>\n",
       "      <th>2</th>\n",
       "      <td>2017-10-03</td>\n",
       "      <td>0.0258</td>\n",
       "      <td>0.0274</td>\n",
       "      <td>0.0207</td>\n",
       "      <td>0.0208</td>\n",
       "      <td>0.0208</td>\n",
       "      <td>16,997,800</td>\n",
       "    </tr>\n",
       "    <tr>\n",
       "      <th>3</th>\n",
       "      <td>2017-10-04</td>\n",
       "      <td>0.0209</td>\n",
       "      <td>0.0228</td>\n",
       "      <td>0.0209</td>\n",
       "      <td>0.0219</td>\n",
       "      <td>0.0219</td>\n",
       "      <td>9,000,050</td>\n",
       "    </tr>\n",
       "    <tr>\n",
       "      <th>4</th>\n",
       "      <td>2017-10-05</td>\n",
       "      <td>0.0220</td>\n",
       "      <td>0.0222</td>\n",
       "      <td>0.0209</td>\n",
       "      <td>0.0215</td>\n",
       "      <td>0.0215</td>\n",
       "      <td>5,562,510</td>\n",
       "    </tr>\n",
       "  </tbody>\n",
       "</table>\n",
       "</div>"
      ],
      "text/plain": [
       "        Date    Open    High     Low  Close* Adj Close**      Volume\n",
       "0 2017-10-01  0.0217  0.0322  0.0174  0.0250      0.0250  50,068,700\n",
       "1 2017-10-02  0.0246  0.0301  0.0200  0.0259      0.0259  57,641,300\n",
       "2 2017-10-03  0.0258  0.0274  0.0207  0.0208      0.0208  16,997,800\n",
       "3 2017-10-04  0.0209  0.0228  0.0209  0.0219      0.0219   9,000,050\n",
       "4 2017-10-05  0.0220  0.0222  0.0209  0.0215      0.0215   5,562,510"
      ]
     },
     "metadata": {},
     "execution_count": 19
    }
   ],
   "metadata": {}
  },
  {
   "cell_type": "code",
   "execution_count": 30,
   "source": [
    "# Formatting columns function\n",
    "\n",
    "def regex(column):\n",
    "    column.replace(',', '', regex=True, inplace=True)\n",
    "    column.replace('-', '', regex=True, inplace=True)\n",
    "    column.replace(r'^\\s*$', np.nan, regex=True, inplace=True)\n",
    "\n",
    "# Clean and export function\n",
    "\n",
    "def clean_export (dataframe, namecsv):\n",
    "\n",
    "    # Dropping NA values\n",
    "\n",
    "    dataframe.dropna(how='any',axis=0, inplace=True)\n",
    "\n",
    "    def clean(dataframe):\n",
    "            for column in dataframe.columns :\n",
    "                regex(dataframe)\n",
    "\n",
    "    clean(dataframe)\n",
    "        # Converting columns in float type after cleaning\n",
    "\n",
    "    def float_converter (dataframe):\n",
    "            dataframe[\"Open\"] = dataframe[\"Open\"].astype(\"float\")\n",
    "            dataframe[\"Close*\"] = dataframe['Close*'].astype(\"float\")\n",
    "            dataframe[\"High\"] = dataframe[\"High\"].astype(\"float\")\n",
    "            dataframe[\"Low\"] = dataframe[\"Low\"].astype(\"float\")\n",
    "            dataframe[\"Adj Close**\"] = dataframe[\"Adj Close**\"].astype(\"float\")\n",
    "            dataframe[\"Volume\"] = dataframe[\"Volume\"].astype(\"float\")\n",
    "    \n",
    "    float_converter(dataframe)\n",
    "\n",
    "        # Exporting the data to a CSV File\n",
    "\n",
    "    return dataframe.to_csv(f'Resources/{namecsv}-USD.csv', header=False, index=False)"
   ],
   "outputs": [],
   "metadata": {}
  },
  {
   "cell_type": "markdown",
   "source": [
    "# BITCOIN"
   ],
   "metadata": {}
  },
  {
   "cell_type": "code",
   "execution_count": 32,
   "source": [
    "clean_export(btc_data, 'BITCOIN')\n",
    "btc_data.dtypes"
   ],
   "outputs": [
    {
     "output_type": "execute_result",
     "data": {
      "text/plain": [
       "Date           datetime64[ns]\n",
       "Open                  float64\n",
       "High                  float64\n",
       "Low                   float64\n",
       "Close*                float64\n",
       "Adj Close**           float64\n",
       "Volume                float64\n",
       "dtype: object"
      ]
     },
     "metadata": {},
     "execution_count": 32
    }
   ],
   "metadata": {}
  },
  {
   "cell_type": "markdown",
   "source": [
    "# ETHEREUM"
   ],
   "metadata": {}
  },
  {
   "cell_type": "code",
   "execution_count": 33,
   "source": [
    "clean_export(eth_data, 'ETHEREUM')\n",
    "eth_data.dtypes"
   ],
   "outputs": [
    {
     "output_type": "execute_result",
     "data": {
      "text/plain": [
       "Date           datetime64[ns]\n",
       "Open                  float64\n",
       "High                  float64\n",
       "Low                   float64\n",
       "Close*                float64\n",
       "Adj Close**           float64\n",
       "Volume                float64\n",
       "dtype: object"
      ]
     },
     "metadata": {},
     "execution_count": 33
    }
   ],
   "metadata": {}
  },
  {
   "cell_type": "markdown",
   "source": [
    "# CARDANO"
   ],
   "metadata": {}
  },
  {
   "cell_type": "code",
   "execution_count": 34,
   "source": [
    "clean_export(ada_data, 'CARDANO')\n",
    "ada_data.dtypes"
   ],
   "outputs": [
    {
     "output_type": "execute_result",
     "data": {
      "text/plain": [
       "Date           datetime64[ns]\n",
       "Open                  float64\n",
       "High                  float64\n",
       "Low                   float64\n",
       "Close*                float64\n",
       "Adj Close**           float64\n",
       "Volume                float64\n",
       "dtype: object"
      ]
     },
     "metadata": {},
     "execution_count": 34
    }
   ],
   "metadata": {}
  },
  {
   "cell_type": "markdown",
   "source": [
    "# BINANCE"
   ],
   "metadata": {}
  },
  {
   "cell_type": "code",
   "execution_count": 31,
   "source": [
    "clean_export(bnb_data, 'BINANCE')"
   ],
   "outputs": [],
   "metadata": {}
  }
 ],
 "metadata": {
  "kernelspec": {
   "name": "python3",
   "display_name": "Python 3.7.10 64-bit ('PythonData': conda)"
  },
  "language_info": {
   "codemirror_mode": {
    "name": "ipython",
    "version": 3
   },
   "file_extension": ".py",
   "mimetype": "text/x-python",
   "name": "python",
   "nbconvert_exporter": "python",
   "pygments_lexer": "ipython3",
   "version": "3.7.10"
  },
  "interpreter": {
   "hash": "8100133e95b8c54b00026d99b06c1e0b98d0c3a6f28fa0153640ad37201d55b8"
  }
 },
 "nbformat": 4,
 "nbformat_minor": 5
}