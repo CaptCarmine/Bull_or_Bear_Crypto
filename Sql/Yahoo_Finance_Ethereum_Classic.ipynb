{
 "cells": [
  {
   "cell_type": "code",
   "execution_count": 1,
   "id": "04630ce5",
   "metadata": {},
   "outputs": [],
   "source": [
    "# Imports to load from subdirectories\n",
    "import sys\n",
    "sys.path.insert(0, './load')\n",
    "\n",
    "# Imports for the YF scraper \n",
    "from Yahoo_Finance_Scraper import get_historical_data\n",
    "from webdriver_manager.chrome import ChromeDriverManager\n",
    "from splinter import Browser\n",
    "import numpy as np"
   ]
  },
  {
   "cell_type": "code",
   "execution_count": 3,
   "id": "bc285066",
   "metadata": {},
   "outputs": [
    {
     "name": "stderr",
     "output_type": "stream",
     "text": [
      "\n",
      "\n",
      "====== WebDriver manager ======\n",
      "Current google-chrome version is 94.0.4606\n",
      "Get LATEST driver version for 94.0.4606\n",
      "Driver [C:\\Users\\19125\\.wdm\\drivers\\chromedriver\\win32\\94.0.4606.61\\chromedriver.exe] found in cache\n"
     ]
    },
    {
     "name": "stdout",
     "output_type": "stream",
     "text": [
      "(2571, 7) (407, 7) (1895, 7)\n"
     ]
    }
   ],
   "source": [
    "# Minimal code to run it\n",
    "executable_path = {'executable_path': ChromeDriverManager().install()}\n",
    "browser = Browser('chrome', **executable_path, headless = True)\n",
    "doge_data = get_historical_data(browser, 'DOGE-USD', '9/17/2014', '9/29/2021')\n",
    "dot1_data = get_historical_data(browser, 'DOT1-USD', '9/17/2014', '9/29/2021') \n",
    "etc_data = get_historical_data(browser, 'ETC-USD', '9/17/2014', '9/29/2021')\n",
    "browser.quit()\n",
    "print(doge_data.shape, dot1_data.shape, etc_data.shape)"
   ]
  },
  {
   "cell_type": "code",
   "execution_count": 4,
   "id": "2c2f5d43",
   "metadata": {},
   "outputs": [
    {
     "data": {
      "text/html": [
       "<div>\n",
       "<style scoped>\n",
       "    .dataframe tbody tr th:only-of-type {\n",
       "        vertical-align: middle;\n",
       "    }\n",
       "\n",
       "    .dataframe tbody tr th {\n",
       "        vertical-align: top;\n",
       "    }\n",
       "\n",
       "    .dataframe thead th {\n",
       "        text-align: right;\n",
       "    }\n",
       "</style>\n",
       "<table border=\"1\" class=\"dataframe\">\n",
       "  <thead>\n",
       "    <tr style=\"text-align: right;\">\n",
       "      <th></th>\n",
       "      <th>Date</th>\n",
       "      <th>Open</th>\n",
       "      <th>High</th>\n",
       "      <th>Low</th>\n",
       "      <th>Close*</th>\n",
       "      <th>Adj Close**</th>\n",
       "      <th>Volume</th>\n",
       "    </tr>\n",
       "  </thead>\n",
       "  <tbody>\n",
       "    <tr>\n",
       "      <th>0</th>\n",
       "      <td>2014-09-17</td>\n",
       "      <td>0.000293</td>\n",
       "      <td>0.000299</td>\n",
       "      <td>0.000260</td>\n",
       "      <td>0.000268</td>\n",
       "      <td>0.000268</td>\n",
       "      <td>1,463,600</td>\n",
       "    </tr>\n",
       "    <tr>\n",
       "      <th>1</th>\n",
       "      <td>2014-09-18</td>\n",
       "      <td>0.000268</td>\n",
       "      <td>0.000325</td>\n",
       "      <td>0.000267</td>\n",
       "      <td>0.000298</td>\n",
       "      <td>0.000298</td>\n",
       "      <td>2,215,910</td>\n",
       "    </tr>\n",
       "    <tr>\n",
       "      <th>2</th>\n",
       "      <td>2014-09-19</td>\n",
       "      <td>0.000298</td>\n",
       "      <td>0.000307</td>\n",
       "      <td>0.000275</td>\n",
       "      <td>0.000277</td>\n",
       "      <td>0.000277</td>\n",
       "      <td>883,563</td>\n",
       "    </tr>\n",
       "    <tr>\n",
       "      <th>3</th>\n",
       "      <td>2014-09-20</td>\n",
       "      <td>0.000276</td>\n",
       "      <td>0.000310</td>\n",
       "      <td>0.000267</td>\n",
       "      <td>0.000292</td>\n",
       "      <td>0.000292</td>\n",
       "      <td>993,004</td>\n",
       "    </tr>\n",
       "    <tr>\n",
       "      <th>4</th>\n",
       "      <td>2014-09-21</td>\n",
       "      <td>0.000293</td>\n",
       "      <td>0.000299</td>\n",
       "      <td>0.000284</td>\n",
       "      <td>0.000288</td>\n",
       "      <td>0.000288</td>\n",
       "      <td>539,140</td>\n",
       "    </tr>\n",
       "  </tbody>\n",
       "</table>\n",
       "</div>"
      ],
      "text/plain": [
       "        Date      Open      High       Low    Close* Adj Close**     Volume\n",
       "0 2014-09-17  0.000293  0.000299  0.000260  0.000268    0.000268  1,463,600\n",
       "1 2014-09-18  0.000268  0.000325  0.000267  0.000298    0.000298  2,215,910\n",
       "2 2014-09-19  0.000298  0.000307  0.000275  0.000277    0.000277    883,563\n",
       "3 2014-09-20  0.000276  0.000310  0.000267  0.000292    0.000292    993,004\n",
       "4 2014-09-21  0.000293  0.000299  0.000284  0.000288    0.000288    539,140"
      ]
     },
     "execution_count": 4,
     "metadata": {},
     "output_type": "execute_result"
    }
   ],
   "source": [
    "doge_data.head()"
   ]
  },
  {
   "cell_type": "code",
   "execution_count": 5,
   "id": "993caa03",
   "metadata": {},
   "outputs": [
    {
     "data": {
      "text/html": [
       "<div>\n",
       "<style scoped>\n",
       "    .dataframe tbody tr th:only-of-type {\n",
       "        vertical-align: middle;\n",
       "    }\n",
       "\n",
       "    .dataframe tbody tr th {\n",
       "        vertical-align: top;\n",
       "    }\n",
       "\n",
       "    .dataframe thead th {\n",
       "        text-align: right;\n",
       "    }\n",
       "</style>\n",
       "<table border=\"1\" class=\"dataframe\">\n",
       "  <thead>\n",
       "    <tr style=\"text-align: right;\">\n",
       "      <th></th>\n",
       "      <th>Date</th>\n",
       "      <th>Open</th>\n",
       "      <th>High</th>\n",
       "      <th>Low</th>\n",
       "      <th>Close*</th>\n",
       "      <th>Adj Close**</th>\n",
       "      <th>Volume</th>\n",
       "    </tr>\n",
       "  </thead>\n",
       "  <tbody>\n",
       "    <tr>\n",
       "      <th>0</th>\n",
       "      <td>2020-08-20</td>\n",
       "      <td>2.79</td>\n",
       "      <td>3.08</td>\n",
       "      <td>2.69</td>\n",
       "      <td>2.90</td>\n",
       "      <td>2.90</td>\n",
       "      <td>48,819,867</td>\n",
       "    </tr>\n",
       "    <tr>\n",
       "      <th>1</th>\n",
       "      <td>2020-08-21</td>\n",
       "      <td>2.90</td>\n",
       "      <td>3.09</td>\n",
       "      <td>2.73</td>\n",
       "      <td>2.88</td>\n",
       "      <td>2.88</td>\n",
       "      <td>49,313,137</td>\n",
       "    </tr>\n",
       "    <tr>\n",
       "      <th>2</th>\n",
       "      <td>2020-08-22</td>\n",
       "      <td>2.88</td>\n",
       "      <td>4.51</td>\n",
       "      <td>2.82</td>\n",
       "      <td>4.48</td>\n",
       "      <td>4.48</td>\n",
       "      <td>485,801,096</td>\n",
       "    </tr>\n",
       "    <tr>\n",
       "      <th>3</th>\n",
       "      <td>2020-08-23</td>\n",
       "      <td>4.49</td>\n",
       "      <td>4.49</td>\n",
       "      <td>3.72</td>\n",
       "      <td>3.97</td>\n",
       "      <td>3.97</td>\n",
       "      <td>320,749,483</td>\n",
       "    </tr>\n",
       "    <tr>\n",
       "      <th>4</th>\n",
       "      <td>2020-08-24</td>\n",
       "      <td>3.99</td>\n",
       "      <td>4.78</td>\n",
       "      <td>3.81</td>\n",
       "      <td>4.60</td>\n",
       "      <td>4.60</td>\n",
       "      <td>407,690,171</td>\n",
       "    </tr>\n",
       "  </tbody>\n",
       "</table>\n",
       "</div>"
      ],
      "text/plain": [
       "        Date  Open  High   Low Close* Adj Close**       Volume\n",
       "0 2020-08-20  2.79  3.08  2.69   2.90        2.90   48,819,867\n",
       "1 2020-08-21  2.90  3.09  2.73   2.88        2.88   49,313,137\n",
       "2 2020-08-22  2.88  4.51  2.82   4.48        4.48  485,801,096\n",
       "3 2020-08-23  4.49  4.49  3.72   3.97        3.97  320,749,483\n",
       "4 2020-08-24  3.99  4.78  3.81   4.60        4.60  407,690,171"
      ]
     },
     "execution_count": 5,
     "metadata": {},
     "output_type": "execute_result"
    }
   ],
   "source": [
    "dot1_data.head()"
   ]
  },
  {
   "cell_type": "code",
   "execution_count": 6,
   "id": "a31e990a",
   "metadata": {},
   "outputs": [
    {
     "data": {
      "text/html": [
       "<div>\n",
       "<style scoped>\n",
       "    .dataframe tbody tr th:only-of-type {\n",
       "        vertical-align: middle;\n",
       "    }\n",
       "\n",
       "    .dataframe tbody tr th {\n",
       "        vertical-align: top;\n",
       "    }\n",
       "\n",
       "    .dataframe thead th {\n",
       "        text-align: right;\n",
       "    }\n",
       "</style>\n",
       "<table border=\"1\" class=\"dataframe\">\n",
       "  <thead>\n",
       "    <tr style=\"text-align: right;\">\n",
       "      <th></th>\n",
       "      <th>Date</th>\n",
       "      <th>Open</th>\n",
       "      <th>High</th>\n",
       "      <th>Low</th>\n",
       "      <th>Close*</th>\n",
       "      <th>Adj Close**</th>\n",
       "      <th>Volume</th>\n",
       "    </tr>\n",
       "  </thead>\n",
       "  <tbody>\n",
       "    <tr>\n",
       "      <th>0</th>\n",
       "      <td>2016-07-24</td>\n",
       "      <td>0.75</td>\n",
       "      <td>0.96</td>\n",
       "      <td>0.74</td>\n",
       "      <td>0.93</td>\n",
       "      <td>0.93</td>\n",
       "      <td>17,769,300</td>\n",
       "    </tr>\n",
       "    <tr>\n",
       "      <th>1</th>\n",
       "      <td>2016-07-25</td>\n",
       "      <td>0.93</td>\n",
       "      <td>0.93</td>\n",
       "      <td>0.45</td>\n",
       "      <td>0.60</td>\n",
       "      <td>0.60</td>\n",
       "      <td>9,308,400</td>\n",
       "    </tr>\n",
       "    <tr>\n",
       "      <th>2</th>\n",
       "      <td>2016-07-26</td>\n",
       "      <td>0.60</td>\n",
       "      <td>2.85</td>\n",
       "      <td>0.60</td>\n",
       "      <td>2.55</td>\n",
       "      <td>2.55</td>\n",
       "      <td>103,066,000</td>\n",
       "    </tr>\n",
       "    <tr>\n",
       "      <th>3</th>\n",
       "      <td>2016-07-27</td>\n",
       "      <td>2.46</td>\n",
       "      <td>2.46</td>\n",
       "      <td>1.26</td>\n",
       "      <td>1.60</td>\n",
       "      <td>1.60</td>\n",
       "      <td>62,645,700</td>\n",
       "    </tr>\n",
       "    <tr>\n",
       "      <th>4</th>\n",
       "      <td>2016-07-28</td>\n",
       "      <td>1.56</td>\n",
       "      <td>1.92</td>\n",
       "      <td>1.37</td>\n",
       "      <td>1.73</td>\n",
       "      <td>1.73</td>\n",
       "      <td>40,291,300</td>\n",
       "    </tr>\n",
       "  </tbody>\n",
       "</table>\n",
       "</div>"
      ],
      "text/plain": [
       "        Date  Open  High   Low Close* Adj Close**       Volume\n",
       "0 2016-07-24  0.75  0.96  0.74   0.93        0.93   17,769,300\n",
       "1 2016-07-25  0.93  0.93  0.45   0.60        0.60    9,308,400\n",
       "2 2016-07-26  0.60  2.85  0.60   2.55        2.55  103,066,000\n",
       "3 2016-07-27  2.46  2.46  1.26   1.60        1.60   62,645,700\n",
       "4 2016-07-28  1.56  1.92  1.37   1.73        1.73   40,291,300"
      ]
     },
     "execution_count": 6,
     "metadata": {},
     "output_type": "execute_result"
    }
   ],
   "source": [
    "etc_data.head()"
   ]
  },
  {
   "cell_type": "code",
   "execution_count": 7,
   "id": "c50f043b",
   "metadata": {},
   "outputs": [],
   "source": [
    "# Formatting columns function\n",
    "def cleaning(column):\n",
    "    column.replace(',', '', regex=True, inplace=True)\n",
    "    column.replace('-', '', regex=True, inplace=True)\n",
    "    column.replace(r'^\\s*$', np.nan, regex=True, inplace=True)"
   ]
  },
  {
   "cell_type": "markdown",
   "id": "97f98417",
   "metadata": {},
   "source": [
    "# DODGE COIN"
   ]
  },
  {
   "cell_type": "code",
   "execution_count": 9,
   "id": "f2f4fde1",
   "metadata": {},
   "outputs": [],
   "source": [
    "# Dropping NA values from the data\n",
    "doge_data = doge_data.dropna(how='any',axis=0)"
   ]
  },
  {
   "cell_type": "code",
   "execution_count": 14,
   "id": "5616c3bc",
   "metadata": {},
   "outputs": [],
   "source": [
    "# Cleaning and changing the column value types \n",
    "cleaning(doge_data[\"Open\"])\n",
    "doge_data[\"Open\"] = doge_data[\"Open\"].astype(\"float\")\n",
    "cleaning(doge_data[\"Close*\"])\n",
    "doge_data[\"Close*\"] = doge_data['Close*'].astype(\"float\")\n",
    "cleaning(doge_data[\"High\"])\n",
    "doge_data[\"High\"] = doge_data[\"High\"].astype(\"float\")\n",
    "cleaning(doge_data[\"Low\"])\n",
    "doge_data[\"Low\"] = doge_data[\"Low\"].astype(\"float\")\n",
    "cleaning(doge_data[\"Adj Close**\"])\n",
    "doge_data[\"Adj Close**\"] = doge_data[\"Adj Close**\"].astype(\"float\")\n",
    "cleaning(doge_data[\"Volume\"])\n",
    "doge_data[\"Volume\"] = doge_data[\"Volume\"].astype(\"float\")"
   ]
  },
  {
   "cell_type": "code",
   "execution_count": 15,
   "id": "2ffc252a",
   "metadata": {},
   "outputs": [
    {
     "data": {
      "text/plain": [
       "Date           datetime64[ns]\n",
       "Open                  float64\n",
       "High                  float64\n",
       "Low                   float64\n",
       "Close*                float64\n",
       "Adj Close**           float64\n",
       "Volume                float64\n",
       "dtype: object"
      ]
     },
     "execution_count": 15,
     "metadata": {},
     "output_type": "execute_result"
    }
   ],
   "source": [
    "doge_data.dtypes"
   ]
  },
  {
   "cell_type": "markdown",
   "id": "98832e1b",
   "metadata": {},
   "source": [
    "# POLKADOT"
   ]
  },
  {
   "cell_type": "code",
   "execution_count": 16,
   "id": "ae540d89",
   "metadata": {},
   "outputs": [],
   "source": [
    "# Dropping NA values from the data\n",
    "dot1_data = dot1_data.dropna(how='any',axis=0)"
   ]
  },
  {
   "cell_type": "code",
   "execution_count": 18,
   "id": "a5f60bdc",
   "metadata": {},
   "outputs": [],
   "source": [
    "# Cleaning and changing the column value types \n",
    "cleaning(dot1_data[\"Open\"])\n",
    "dot1_data[\"Open\"] = dot1_data[\"Open\"].astype(\"float\")\n",
    "cleaning(dot1_data[\"Close*\"])\n",
    "dot1_data[\"Close*\"] = dot1_data['Close*'].astype(\"float\")\n",
    "cleaning(dot1_data[\"High\"])\n",
    "dot1_data[\"High\"] = dot1_data[\"High\"].astype(\"float\")\n",
    "cleaning(dot1_data[\"Low\"])\n",
    "dot1_data[\"Low\"] = dot1_data[\"Low\"].astype(\"float\")\n",
    "cleaning(dot1_data[\"Adj Close**\"])\n",
    "dot1_data[\"Adj Close**\"] = dot1_data[\"Adj Close**\"].astype(\"float\")\n",
    "cleaning(dot1_data[\"Volume\"])\n",
    "dot1_data[\"Volume\"] = dot1_data[\"Volume\"].astype(\"float\")"
   ]
  },
  {
   "cell_type": "code",
   "execution_count": 19,
   "id": "0f79892f",
   "metadata": {},
   "outputs": [
    {
     "data": {
      "text/plain": [
       "Date           datetime64[ns]\n",
       "Open                  float64\n",
       "High                  float64\n",
       "Low                   float64\n",
       "Close*                float64\n",
       "Adj Close**           float64\n",
       "Volume                float64\n",
       "dtype: object"
      ]
     },
     "execution_count": 19,
     "metadata": {},
     "output_type": "execute_result"
    }
   ],
   "source": [
    "dot1_data.dtypes"
   ]
  },
  {
   "cell_type": "markdown",
   "id": "1bdd8018",
   "metadata": {},
   "source": [
    "# ETHEREUM CLASSIC"
   ]
  },
  {
   "cell_type": "code",
   "execution_count": 20,
   "id": "07f0dd4e",
   "metadata": {},
   "outputs": [],
   "source": [
    "# Dropping NA values from the data\n",
    "etc_data = etc_data.dropna(how='any',axis=0)"
   ]
  },
  {
   "cell_type": "code",
   "execution_count": 22,
   "id": "1b23e0c5",
   "metadata": {},
   "outputs": [],
   "source": [
    "# Cleaning and changing the column value types \n",
    "cleaning(etc_data[\"Open\"])\n",
    "etc_data[\"Open\"] = etc_data[\"Open\"].astype(\"float\")\n",
    "cleaning(etc_data[\"Close*\"])\n",
    "etc_data[\"Close*\"] = etc_data['Close*'].astype(\"float\")\n",
    "cleaning(etc_data[\"High\"])\n",
    "etc_data[\"High\"] = etc_data[\"High\"].astype(\"float\")\n",
    "cleaning(etc_data[\"Low\"])\n",
    "etc_data[\"Low\"] = etc_data[\"Low\"].astype(\"float\")\n",
    "cleaning(etc_data[\"Adj Close**\"])\n",
    "etc_data[\"Adj Close**\"] = etc_data[\"Adj Close**\"].astype(\"float\")\n",
    "cleaning(etc_data[\"Volume\"])\n",
    "etc_data[\"Volume\"] = etc_data[\"Volume\"].astype(\"float\")"
   ]
  },
  {
   "cell_type": "code",
   "execution_count": 23,
   "id": "7a642de4",
   "metadata": {},
   "outputs": [
    {
     "data": {
      "text/plain": [
       "Date           datetime64[ns]\n",
       "Open                  float64\n",
       "High                  float64\n",
       "Low                   float64\n",
       "Close*                float64\n",
       "Adj Close**           float64\n",
       "Volume                float64\n",
       "dtype: object"
      ]
     },
     "execution_count": 23,
     "metadata": {},
     "output_type": "execute_result"
    }
   ],
   "source": [
    "etc_data.dtypes"
   ]
  },
  {
   "cell_type": "code",
   "execution_count": null,
   "id": "194ae2ff",
   "metadata": {},
   "outputs": [],
   "source": []
  }
 ],
 "metadata": {
  "kernelspec": {
   "display_name": "Python 3-PythonData",
   "language": "python",
   "name": "python3"
  },
  "language_info": {
   "codemirror_mode": {
    "name": "ipython",
    "version": 3
   },
   "file_extension": ".py",
   "mimetype": "text/x-python",
   "name": "python",
   "nbconvert_exporter": "python",
   "pygments_lexer": "ipython3",
   "version": "3.7.10"
  },
  "varInspector": {
   "cols": {
    "lenName": 16,
    "lenType": 16,
    "lenVar": 40
   },
   "kernels_config": {
    "python": {
     "delete_cmd_postfix": "",
     "delete_cmd_prefix": "del ",
     "library": "var_list.py",
     "varRefreshCmd": "print(var_dic_list())"
    },
    "r": {
     "delete_cmd_postfix": ") ",
     "delete_cmd_prefix": "rm(",
     "library": "var_list.r",
     "varRefreshCmd": "cat(var_dic_list()) "
    }
   },
   "types_to_exclude": [
    "module",
    "function",
    "builtin_function_or_method",
    "instance",
    "_Feature"
   ],
   "window_display": false
  }
 },
 "nbformat": 4,
 "nbformat_minor": 5
}
