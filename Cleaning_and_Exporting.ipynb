{
 "cells": [
  {
   "cell_type": "markdown",
   "source": [
    "# Cleaning and Exporting to CSV"
   ],
   "metadata": {}
  },
  {
   "cell_type": "code",
   "execution_count": 1,
   "source": [
    "# Imports to load from subdirectories\n",
    "import sys\n",
    "sys.path.insert(0, './load')\n",
    "\n",
    "# Imports for the YF scraper \n",
    "from Yahoo_Finance_Scraper import get_historical_data\n",
    "from webdriver_manager.chrome import ChromeDriverManager\n",
    "from splinter import Browser\n",
    "import numpy as np"
   ],
   "outputs": [],
   "metadata": {}
  },
  {
   "cell_type": "code",
   "execution_count": 2,
   "source": [
    "# Minimal code to run it\n",
    "executable_path = {'executable_path': ChromeDriverManager().install()}\n",
    "browser = Browser('chrome', **executable_path, headless = True)\n",
    "btc_data = get_historical_data(browser, 'BTC-USD', '9/17/2014', '9/29/2021')\n",
    "eth_data = get_historical_data(browser, 'ETH-USD', '9/17/2014', '9/29/2021') \n",
    "ada_data = get_historical_data(browser, 'ADA-USD', '9/17/2014', '9/29/2021')\n",
    "browser.quit()\n",
    "print(btc_data.shape, eth_data.shape, ada_data.shape)"
   ],
   "outputs": [
    {
     "output_type": "stream",
     "name": "stderr",
     "text": [
      "\n",
      "\n",
      "====== WebDriver manager ======\n",
      "Current google-chrome version is 94.0.4606\n",
      "Get LATEST driver version for 94.0.4606\n",
      "Driver [/Users/albertomontilla/.wdm/drivers/chromedriver/mac64/94.0.4606.61/chromedriver] found in cache\n"
     ]
    },
    {
     "output_type": "stream",
     "name": "stdout",
     "text": [
      "(2571, 7) (2247, 7) (1461, 7)\n"
     ]
    }
   ],
   "metadata": {}
  },
  {
   "cell_type": "code",
   "execution_count": 8,
   "source": [
    "btc_data.head()"
   ],
   "outputs": [
    {
     "output_type": "execute_result",
     "data": {
      "text/html": [
       "<div>\n",
       "<style scoped>\n",
       "    .dataframe tbody tr th:only-of-type {\n",
       "        vertical-align: middle;\n",
       "    }\n",
       "\n",
       "    .dataframe tbody tr th {\n",
       "        vertical-align: top;\n",
       "    }\n",
       "\n",
       "    .dataframe thead th {\n",
       "        text-align: right;\n",
       "    }\n",
       "</style>\n",
       "<table border=\"1\" class=\"dataframe\">\n",
       "  <thead>\n",
       "    <tr style=\"text-align: right;\">\n",
       "      <th></th>\n",
       "      <th>Date</th>\n",
       "      <th>Open</th>\n",
       "      <th>High</th>\n",
       "      <th>Low</th>\n",
       "      <th>Close*</th>\n",
       "      <th>Adj Close**</th>\n",
       "      <th>Volume</th>\n",
       "    </tr>\n",
       "  </thead>\n",
       "  <tbody>\n",
       "    <tr>\n",
       "      <th>0</th>\n",
       "      <td>2014-09-17</td>\n",
       "      <td>465.86</td>\n",
       "      <td>468.17</td>\n",
       "      <td>452.42</td>\n",
       "      <td>457.33</td>\n",
       "      <td>457.33</td>\n",
       "      <td>21,056,800</td>\n",
       "    </tr>\n",
       "    <tr>\n",
       "      <th>1</th>\n",
       "      <td>2014-09-18</td>\n",
       "      <td>456.86</td>\n",
       "      <td>456.86</td>\n",
       "      <td>413.10</td>\n",
       "      <td>424.44</td>\n",
       "      <td>424.44</td>\n",
       "      <td>34,483,200</td>\n",
       "    </tr>\n",
       "    <tr>\n",
       "      <th>2</th>\n",
       "      <td>2014-09-19</td>\n",
       "      <td>424.10</td>\n",
       "      <td>427.83</td>\n",
       "      <td>384.53</td>\n",
       "      <td>394.80</td>\n",
       "      <td>394.80</td>\n",
       "      <td>37,919,700</td>\n",
       "    </tr>\n",
       "    <tr>\n",
       "      <th>3</th>\n",
       "      <td>2014-09-20</td>\n",
       "      <td>394.67</td>\n",
       "      <td>423.30</td>\n",
       "      <td>389.88</td>\n",
       "      <td>408.90</td>\n",
       "      <td>408.90</td>\n",
       "      <td>36,863,600</td>\n",
       "    </tr>\n",
       "    <tr>\n",
       "      <th>4</th>\n",
       "      <td>2014-09-21</td>\n",
       "      <td>408.08</td>\n",
       "      <td>412.43</td>\n",
       "      <td>393.18</td>\n",
       "      <td>398.82</td>\n",
       "      <td>398.82</td>\n",
       "      <td>26,580,100</td>\n",
       "    </tr>\n",
       "  </tbody>\n",
       "</table>\n",
       "</div>"
      ],
      "text/plain": [
       "        Date    Open    High     Low  Close* Adj Close**      Volume\n",
       "0 2014-09-17  465.86  468.17  452.42  457.33      457.33  21,056,800\n",
       "1 2014-09-18  456.86  456.86  413.10  424.44      424.44  34,483,200\n",
       "2 2014-09-19  424.10  427.83  384.53  394.80      394.80  37,919,700\n",
       "3 2014-09-20  394.67  423.30  389.88  408.90      408.90  36,863,600\n",
       "4 2014-09-21  408.08  412.43  393.18  398.82      398.82  26,580,100"
      ]
     },
     "metadata": {},
     "execution_count": 8
    }
   ],
   "metadata": {}
  },
  {
   "cell_type": "code",
   "execution_count": 6,
   "source": [
    "eth_data.head()"
   ],
   "outputs": [
    {
     "output_type": "execute_result",
     "data": {
      "text/html": [
       "<div>\n",
       "<style scoped>\n",
       "    .dataframe tbody tr th:only-of-type {\n",
       "        vertical-align: middle;\n",
       "    }\n",
       "\n",
       "    .dataframe tbody tr th {\n",
       "        vertical-align: top;\n",
       "    }\n",
       "\n",
       "    .dataframe thead th {\n",
       "        text-align: right;\n",
       "    }\n",
       "</style>\n",
       "<table border=\"1\" class=\"dataframe\">\n",
       "  <thead>\n",
       "    <tr style=\"text-align: right;\">\n",
       "      <th></th>\n",
       "      <th>Date</th>\n",
       "      <th>Open</th>\n",
       "      <th>High</th>\n",
       "      <th>Low</th>\n",
       "      <th>Close*</th>\n",
       "      <th>Adj Close**</th>\n",
       "      <th>Volume</th>\n",
       "    </tr>\n",
       "  </thead>\n",
       "  <tbody>\n",
       "    <tr>\n",
       "      <th>0</th>\n",
       "      <td>2015-08-07</td>\n",
       "      <td>2.83</td>\n",
       "      <td>3.54</td>\n",
       "      <td>2.52</td>\n",
       "      <td>2.77</td>\n",
       "      <td>2.77</td>\n",
       "      <td>164,329</td>\n",
       "    </tr>\n",
       "    <tr>\n",
       "      <th>1</th>\n",
       "      <td>2015-08-08</td>\n",
       "      <td>2.79</td>\n",
       "      <td>2.80</td>\n",
       "      <td>0.71</td>\n",
       "      <td>0.75</td>\n",
       "      <td>0.75</td>\n",
       "      <td>674,188</td>\n",
       "    </tr>\n",
       "    <tr>\n",
       "      <th>2</th>\n",
       "      <td>2015-08-09</td>\n",
       "      <td>0.71</td>\n",
       "      <td>0.88</td>\n",
       "      <td>0.63</td>\n",
       "      <td>0.70</td>\n",
       "      <td>0.70</td>\n",
       "      <td>532,170</td>\n",
       "    </tr>\n",
       "    <tr>\n",
       "      <th>3</th>\n",
       "      <td>2015-08-10</td>\n",
       "      <td>0.71</td>\n",
       "      <td>0.73</td>\n",
       "      <td>0.64</td>\n",
       "      <td>0.71</td>\n",
       "      <td>0.71</td>\n",
       "      <td>405,283</td>\n",
       "    </tr>\n",
       "    <tr>\n",
       "      <th>4</th>\n",
       "      <td>2015-08-11</td>\n",
       "      <td>0.71</td>\n",
       "      <td>1.13</td>\n",
       "      <td>0.66</td>\n",
       "      <td>1.07</td>\n",
       "      <td>1.07</td>\n",
       "      <td>1,463,100</td>\n",
       "    </tr>\n",
       "  </tbody>\n",
       "</table>\n",
       "</div>"
      ],
      "text/plain": [
       "        Date  Open  High   Low Close* Adj Close**     Volume\n",
       "0 2015-08-07  2.83  3.54  2.52   2.77        2.77    164,329\n",
       "1 2015-08-08  2.79  2.80  0.71   0.75        0.75    674,188\n",
       "2 2015-08-09  0.71  0.88  0.63   0.70        0.70    532,170\n",
       "3 2015-08-10  0.71  0.73  0.64   0.71        0.71    405,283\n",
       "4 2015-08-11  0.71  1.13  0.66   1.07        1.07  1,463,100"
      ]
     },
     "metadata": {},
     "execution_count": 6
    }
   ],
   "metadata": {}
  },
  {
   "cell_type": "code",
   "execution_count": 7,
   "source": [
    "ada_data.head()"
   ],
   "outputs": [
    {
     "output_type": "execute_result",
     "data": {
      "text/html": [
       "<div>\n",
       "<style scoped>\n",
       "    .dataframe tbody tr th:only-of-type {\n",
       "        vertical-align: middle;\n",
       "    }\n",
       "\n",
       "    .dataframe tbody tr th {\n",
       "        vertical-align: top;\n",
       "    }\n",
       "\n",
       "    .dataframe thead th {\n",
       "        text-align: right;\n",
       "    }\n",
       "</style>\n",
       "<table border=\"1\" class=\"dataframe\">\n",
       "  <thead>\n",
       "    <tr style=\"text-align: right;\">\n",
       "      <th></th>\n",
       "      <th>Date</th>\n",
       "      <th>Open</th>\n",
       "      <th>High</th>\n",
       "      <th>Low</th>\n",
       "      <th>Close*</th>\n",
       "      <th>Adj Close**</th>\n",
       "      <th>Volume</th>\n",
       "    </tr>\n",
       "  </thead>\n",
       "  <tbody>\n",
       "    <tr>\n",
       "      <th>0</th>\n",
       "      <td>2017-10-01</td>\n",
       "      <td>0.0217</td>\n",
       "      <td>0.0322</td>\n",
       "      <td>0.0174</td>\n",
       "      <td>0.0250</td>\n",
       "      <td>0.0250</td>\n",
       "      <td>50,068,700</td>\n",
       "    </tr>\n",
       "    <tr>\n",
       "      <th>1</th>\n",
       "      <td>2017-10-02</td>\n",
       "      <td>0.0246</td>\n",
       "      <td>0.0301</td>\n",
       "      <td>0.0200</td>\n",
       "      <td>0.0259</td>\n",
       "      <td>0.0259</td>\n",
       "      <td>57,641,300</td>\n",
       "    </tr>\n",
       "    <tr>\n",
       "      <th>2</th>\n",
       "      <td>2017-10-03</td>\n",
       "      <td>0.0258</td>\n",
       "      <td>0.0274</td>\n",
       "      <td>0.0207</td>\n",
       "      <td>0.0208</td>\n",
       "      <td>0.0208</td>\n",
       "      <td>16,997,800</td>\n",
       "    </tr>\n",
       "    <tr>\n",
       "      <th>3</th>\n",
       "      <td>2017-10-04</td>\n",
       "      <td>0.0209</td>\n",
       "      <td>0.0228</td>\n",
       "      <td>0.0209</td>\n",
       "      <td>0.0219</td>\n",
       "      <td>0.0219</td>\n",
       "      <td>9,000,050</td>\n",
       "    </tr>\n",
       "    <tr>\n",
       "      <th>4</th>\n",
       "      <td>2017-10-05</td>\n",
       "      <td>0.0220</td>\n",
       "      <td>0.0222</td>\n",
       "      <td>0.0209</td>\n",
       "      <td>0.0215</td>\n",
       "      <td>0.0215</td>\n",
       "      <td>5,562,510</td>\n",
       "    </tr>\n",
       "  </tbody>\n",
       "</table>\n",
       "</div>"
      ],
      "text/plain": [
       "        Date    Open    High     Low  Close* Adj Close**      Volume\n",
       "0 2017-10-01  0.0217  0.0322  0.0174  0.0250      0.0250  50,068,700\n",
       "1 2017-10-02  0.0246  0.0301  0.0200  0.0259      0.0259  57,641,300\n",
       "2 2017-10-03  0.0258  0.0274  0.0207  0.0208      0.0208  16,997,800\n",
       "3 2017-10-04  0.0209  0.0228  0.0209  0.0219      0.0219   9,000,050\n",
       "4 2017-10-05  0.0220  0.0222  0.0209  0.0215      0.0215   5,562,510"
      ]
     },
     "metadata": {},
     "execution_count": 7
    }
   ],
   "metadata": {}
  },
  {
   "cell_type": "code",
   "execution_count": 9,
   "source": [
    "# Formatting columns function\n",
    "def cleaning(column):\n",
    "    column.replace(',', '', regex=True, inplace=True)\n",
    "    column.replace('-', '', regex=True, inplace=True)\n",
    "    column.replace(r'^\\s*$', np.nan, regex=True, inplace=True)"
   ],
   "outputs": [],
   "metadata": {}
  },
  {
   "cell_type": "markdown",
   "source": [
    "# BITCOIN"
   ],
   "metadata": {}
  },
  {
   "cell_type": "code",
   "execution_count": 22,
   "source": [
    "# Dropping NA values from the data\n",
    "btc_data = btc_data.dropna(how='any',axis=0) "
   ],
   "outputs": [],
   "metadata": {}
  },
  {
   "cell_type": "code",
   "execution_count": 23,
   "source": [
    "# Cleaning and changing the column value types \n",
    "cleaning(btc_data[\"Open\"])\n",
    "btc_data[\"Open\"] = btc_data[\"Open\"].astype(\"float\")\n",
    "cleaning(btc_data[\"Close*\"])\n",
    "btc_data[\"Close*\"] = btc_data['Close*'].astype(\"float\")\n",
    "cleaning(btc_data[\"High\"])\n",
    "btc_data[\"High\"] = btc_data[\"High\"].astype(\"float\")\n",
    "cleaning(btc_data[\"Low\"])\n",
    "btc_data[\"Low\"] = btc_data[\"Low\"].astype(\"float\")\n",
    "cleaning(btc_data[\"Adj Close**\"])\n",
    "btc_data[\"Adj Close**\"] = btc_data[\"Adj Close**\"].astype(\"float\")\n",
    "cleaning(btc_data[\"Volume\"])\n",
    "btc_data[\"Volume\"] = btc_data[\"Volume\"].astype(\"float\")"
   ],
   "outputs": [],
   "metadata": {}
  },
  {
   "cell_type": "code",
   "execution_count": 24,
   "source": [
    "btc_data.dtypes"
   ],
   "outputs": [
    {
     "output_type": "execute_result",
     "data": {
      "text/plain": [
       "Date           datetime64[ns]\n",
       "Open                  float64\n",
       "High                  float64\n",
       "Low                   float64\n",
       "Close*                float64\n",
       "Adj Close**           float64\n",
       "Volume                float64\n",
       "dtype: object"
      ]
     },
     "metadata": {},
     "execution_count": 24
    }
   ],
   "metadata": {}
  },
  {
   "cell_type": "code",
   "execution_count": 25,
   "source": [
    "# Exporting the data to a CSV File\n",
    "btc_data.to_csv('Resources/BTC-USD.csv', header=False, index=False)"
   ],
   "outputs": [],
   "metadata": {}
  },
  {
   "cell_type": "markdown",
   "source": [
    "# ETHEREUM"
   ],
   "metadata": {}
  },
  {
   "cell_type": "code",
   "execution_count": 26,
   "source": [
    "# Dropping NA values from the data\n",
    "eth_data = eth_data.dropna(how='any',axis=0) "
   ],
   "outputs": [],
   "metadata": {}
  },
  {
   "cell_type": "code",
   "execution_count": 27,
   "source": [
    "# Cleaning and changing the column value types \n",
    "cleaning(eth_data[\"Open\"])\n",
    "eth_data[\"Open\"] = eth_data[\"Open\"].astype(\"float\")\n",
    "cleaning(eth_data[\"Close*\"])\n",
    "eth_data[\"Close*\"] = eth_data['Close*'].astype(\"float\")\n",
    "cleaning(eth_data[\"High\"])\n",
    "eth_data[\"High\"] = eth_data[\"High\"].astype(\"float\")\n",
    "cleaning(eth_data[\"Low\"])\n",
    "eth_data[\"Low\"] = eth_data[\"Low\"].astype(\"float\")\n",
    "cleaning(eth_data[\"Adj Close**\"])\n",
    "eth_data[\"Adj Close**\"] = eth_data[\"Adj Close**\"].astype(\"float\")\n",
    "cleaning(eth_data[\"Volume\"])\n",
    "eth_data[\"Volume\"] = eth_data[\"Volume\"].astype(\"float\")"
   ],
   "outputs": [],
   "metadata": {}
  },
  {
   "cell_type": "code",
   "execution_count": 28,
   "source": [
    "eth_data.dtypes"
   ],
   "outputs": [
    {
     "output_type": "execute_result",
     "data": {
      "text/plain": [
       "Date           datetime64[ns]\n",
       "Open                  float64\n",
       "High                  float64\n",
       "Low                   float64\n",
       "Close*                float64\n",
       "Adj Close**           float64\n",
       "Volume                float64\n",
       "dtype: object"
      ]
     },
     "metadata": {},
     "execution_count": 28
    }
   ],
   "metadata": {}
  },
  {
   "cell_type": "code",
   "execution_count": 29,
   "source": [
    "# Exporting the data to a CSV File\n",
    "eth_data.to_csv('Resources/ETH-USD.csv', header=False, index=False)"
   ],
   "outputs": [],
   "metadata": {}
  },
  {
   "cell_type": "markdown",
   "source": [
    "# CARDANO"
   ],
   "metadata": {}
  },
  {
   "cell_type": "code",
   "execution_count": 30,
   "source": [
    "# Dropping NA values from the data\n",
    "ada_data = ada_data.dropna(how='any',axis=0) "
   ],
   "outputs": [],
   "metadata": {}
  },
  {
   "cell_type": "code",
   "execution_count": 31,
   "source": [
    "# Cleaning and changing the column value types \n",
    "cleaning(ada_data[\"Open\"])\n",
    "ada_data[\"Open\"] = ada_data[\"Open\"].astype(\"float\")\n",
    "cleaning(ada_data[\"Close*\"])\n",
    "ada_data[\"Close*\"] = ada_data['Close*'].astype(\"float\")\n",
    "cleaning(ada_data[\"High\"])\n",
    "ada_data[\"High\"] = ada_data[\"High\"].astype(\"float\")\n",
    "cleaning(ada_data[\"Low\"])\n",
    "ada_data[\"Low\"] = ada_data[\"Low\"].astype(\"float\")\n",
    "cleaning(ada_data[\"Adj Close**\"])\n",
    "ada_data[\"Adj Close**\"] = ada_data[\"Adj Close**\"].astype(\"float\")\n",
    "cleaning(ada_data[\"Volume\"])\n",
    "ada_data[\"Volume\"] = ada_data[\"Volume\"].astype(\"float\")"
   ],
   "outputs": [],
   "metadata": {}
  },
  {
   "cell_type": "code",
   "execution_count": 32,
   "source": [
    "ada_data.dtypes"
   ],
   "outputs": [
    {
     "output_type": "execute_result",
     "data": {
      "text/plain": [
       "Date           datetime64[ns]\n",
       "Open                  float64\n",
       "High                  float64\n",
       "Low                   float64\n",
       "Close*                float64\n",
       "Adj Close**           float64\n",
       "Volume                float64\n",
       "dtype: object"
      ]
     },
     "metadata": {},
     "execution_count": 32
    }
   ],
   "metadata": {}
  },
  {
   "cell_type": "code",
   "execution_count": 33,
   "source": [
    "# Exporting the data to a CSV File\n",
    "ada_data.to_csv('Resources/ADA-USD.csv', header=False, index=False)"
   ],
   "outputs": [],
   "metadata": {}
  }
 ],
 "metadata": {
  "kernelspec": {
   "name": "python3",
   "display_name": "Python 3.7.10 64-bit ('PythonData': conda)"
  },
  "language_info": {
   "codemirror_mode": {
    "name": "ipython",
    "version": 3
   },
   "file_extension": ".py",
   "mimetype": "text/x-python",
   "name": "python",
   "nbconvert_exporter": "python",
   "pygments_lexer": "ipython3",
   "version": "3.7.10"
  },
  "interpreter": {
   "hash": "8100133e95b8c54b00026d99b06c1e0b98d0c3a6f28fa0153640ad37201d55b8"
  }
 },
 "nbformat": 4,
 "nbformat_minor": 5
}