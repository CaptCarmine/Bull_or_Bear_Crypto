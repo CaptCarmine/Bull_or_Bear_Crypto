{
 "cells": [
  {
   "cell_type": "markdown",
   "source": [
    "# Cleaning and Exporting to CSV"
   ],
   "metadata": {}
  },
  {
   "cell_type": "code",
   "execution_count": 6,
   "source": [
    "#imports to load from subdirectories\n",
    "import sys\n",
    "sys.path.insert(0, './load')\n",
    "\n",
    "#imports for the YF scraper\n",
    "from Yahoo_Finance_Scraper import get_historical_data\n",
    "from webdriver_manager.chrome import ChromeDriverManager\n",
    "from splinter import Browser\n",
    "import numpy as np"
   ],
   "outputs": [],
   "metadata": {}
  },
  {
   "cell_type": "code",
   "execution_count": 3,
   "source": [
    "#minimal code to run it\n",
    "executable_path = {'executable_path': ChromeDriverManager().install()}\n",
    "browser = Browser('chrome', **executable_path, headless = True)\n",
    "hist_full = get_historical_data(browser, 'BTC-USD', '9/17/2014', '9/29/2021')\n",
    "browser.quit()\n",
    "print(hist_full.shape)\n",
    "hist_full.head(10)"
   ],
   "outputs": [
    {
     "output_type": "stream",
     "name": "stderr",
     "text": [
      "\n",
      "\n",
      "====== WebDriver manager ======\n",
      "Current google-chrome version is 94.0.4606\n",
      "Get LATEST driver version for 94.0.4606\n",
      "Driver [/Users/albertomontilla/.wdm/drivers/chromedriver/mac64/94.0.4606.61/chromedriver] found in cache\n"
     ]
    },
    {
     "output_type": "stream",
     "name": "stdout",
     "text": [
      "(2571, 7)\n"
     ]
    },
    {
     "output_type": "execute_result",
     "data": {
      "text/html": [
       "<div>\n",
       "<style scoped>\n",
       "    .dataframe tbody tr th:only-of-type {\n",
       "        vertical-align: middle;\n",
       "    }\n",
       "\n",
       "    .dataframe tbody tr th {\n",
       "        vertical-align: top;\n",
       "    }\n",
       "\n",
       "    .dataframe thead th {\n",
       "        text-align: right;\n",
       "    }\n",
       "</style>\n",
       "<table border=\"1\" class=\"dataframe\">\n",
       "  <thead>\n",
       "    <tr style=\"text-align: right;\">\n",
       "      <th></th>\n",
       "      <th>Date</th>\n",
       "      <th>Open</th>\n",
       "      <th>High</th>\n",
       "      <th>Low</th>\n",
       "      <th>Close*</th>\n",
       "      <th>Adj Close**</th>\n",
       "      <th>Volume</th>\n",
       "    </tr>\n",
       "  </thead>\n",
       "  <tbody>\n",
       "    <tr>\n",
       "      <th>0</th>\n",
       "      <td>2014-09-17</td>\n",
       "      <td>465.86</td>\n",
       "      <td>468.17</td>\n",
       "      <td>452.42</td>\n",
       "      <td>457.33</td>\n",
       "      <td>457.33</td>\n",
       "      <td>21,056,800</td>\n",
       "    </tr>\n",
       "    <tr>\n",
       "      <th>1</th>\n",
       "      <td>2014-09-18</td>\n",
       "      <td>456.86</td>\n",
       "      <td>456.86</td>\n",
       "      <td>413.10</td>\n",
       "      <td>424.44</td>\n",
       "      <td>424.44</td>\n",
       "      <td>34,483,200</td>\n",
       "    </tr>\n",
       "    <tr>\n",
       "      <th>2</th>\n",
       "      <td>2014-09-19</td>\n",
       "      <td>424.10</td>\n",
       "      <td>427.83</td>\n",
       "      <td>384.53</td>\n",
       "      <td>394.80</td>\n",
       "      <td>394.80</td>\n",
       "      <td>37,919,700</td>\n",
       "    </tr>\n",
       "    <tr>\n",
       "      <th>3</th>\n",
       "      <td>2014-09-20</td>\n",
       "      <td>394.67</td>\n",
       "      <td>423.30</td>\n",
       "      <td>389.88</td>\n",
       "      <td>408.90</td>\n",
       "      <td>408.90</td>\n",
       "      <td>36,863,600</td>\n",
       "    </tr>\n",
       "    <tr>\n",
       "      <th>4</th>\n",
       "      <td>2014-09-21</td>\n",
       "      <td>408.08</td>\n",
       "      <td>412.43</td>\n",
       "      <td>393.18</td>\n",
       "      <td>398.82</td>\n",
       "      <td>398.82</td>\n",
       "      <td>26,580,100</td>\n",
       "    </tr>\n",
       "    <tr>\n",
       "      <th>5</th>\n",
       "      <td>2014-09-22</td>\n",
       "      <td>399.10</td>\n",
       "      <td>406.92</td>\n",
       "      <td>397.13</td>\n",
       "      <td>402.15</td>\n",
       "      <td>402.15</td>\n",
       "      <td>24,127,600</td>\n",
       "    </tr>\n",
       "    <tr>\n",
       "      <th>6</th>\n",
       "      <td>2014-09-23</td>\n",
       "      <td>402.09</td>\n",
       "      <td>441.56</td>\n",
       "      <td>396.20</td>\n",
       "      <td>435.79</td>\n",
       "      <td>435.79</td>\n",
       "      <td>45,099,500</td>\n",
       "    </tr>\n",
       "    <tr>\n",
       "      <th>7</th>\n",
       "      <td>2014-09-24</td>\n",
       "      <td>435.75</td>\n",
       "      <td>436.11</td>\n",
       "      <td>421.13</td>\n",
       "      <td>423.20</td>\n",
       "      <td>423.20</td>\n",
       "      <td>30,627,700</td>\n",
       "    </tr>\n",
       "    <tr>\n",
       "      <th>8</th>\n",
       "      <td>2014-09-25</td>\n",
       "      <td>423.16</td>\n",
       "      <td>423.52</td>\n",
       "      <td>409.47</td>\n",
       "      <td>411.57</td>\n",
       "      <td>411.57</td>\n",
       "      <td>26,814,400</td>\n",
       "    </tr>\n",
       "    <tr>\n",
       "      <th>9</th>\n",
       "      <td>2014-09-26</td>\n",
       "      <td>411.43</td>\n",
       "      <td>414.94</td>\n",
       "      <td>400.01</td>\n",
       "      <td>404.42</td>\n",
       "      <td>404.42</td>\n",
       "      <td>21,460,800</td>\n",
       "    </tr>\n",
       "  </tbody>\n",
       "</table>\n",
       "</div>"
      ],
      "text/plain": [
       "        Date    Open    High     Low  Close* Adj Close**      Volume\n",
       "0 2014-09-17  465.86  468.17  452.42  457.33      457.33  21,056,800\n",
       "1 2014-09-18  456.86  456.86  413.10  424.44      424.44  34,483,200\n",
       "2 2014-09-19  424.10  427.83  384.53  394.80      394.80  37,919,700\n",
       "3 2014-09-20  394.67  423.30  389.88  408.90      408.90  36,863,600\n",
       "4 2014-09-21  408.08  412.43  393.18  398.82      398.82  26,580,100\n",
       "5 2014-09-22  399.10  406.92  397.13  402.15      402.15  24,127,600\n",
       "6 2014-09-23  402.09  441.56  396.20  435.79      435.79  45,099,500\n",
       "7 2014-09-24  435.75  436.11  421.13  423.20      423.20  30,627,700\n",
       "8 2014-09-25  423.16  423.52  409.47  411.57      411.57  26,814,400\n",
       "9 2014-09-26  411.43  414.94  400.01  404.42      404.42  21,460,800"
      ]
     },
     "metadata": {},
     "execution_count": 3
    }
   ],
   "metadata": {}
  },
  {
   "cell_type": "code",
   "execution_count": 4,
   "source": [
    "def cleaning(column):\n",
    "    column.replace(',', '', regex=True, inplace=True)\n",
    "    column.replace('-', '', regex=True, inplace=True)\n",
    "    column.replace(r'^\\s*$', np.nan, regex=True, inplace=True)"
   ],
   "outputs": [],
   "metadata": {}
  },
  {
   "cell_type": "code",
   "execution_count": 7,
   "source": [
    "cleaning(hist_full[\"Open\"])\n",
    "hist_full[\"Open\"] = hist_full[\"Open\"].astype(\"float\")"
   ],
   "outputs": [],
   "metadata": {}
  },
  {
   "cell_type": "code",
   "execution_count": 8,
   "source": [
    "cleaning(hist_full[\"Close*\"])\n",
    "hist_full[\"Close*\"] = hist_full['Close*'].astype(\"float\")"
   ],
   "outputs": [],
   "metadata": {}
  },
  {
   "cell_type": "code",
   "execution_count": 10,
   "source": [
    "cleaning(hist_full[\"High\"])\n",
    "hist_full[\"High\"] = hist_full[\"High\"].astype(\"float\")"
   ],
   "outputs": [],
   "metadata": {}
  },
  {
   "cell_type": "code",
   "execution_count": 11,
   "source": [
    "cleaning(hist_full[\"Low\"])\n",
    "hist_full[\"Low\"] = hist_full[\"Low\"].astype(\"float\")"
   ],
   "outputs": [],
   "metadata": {}
  },
  {
   "cell_type": "code",
   "execution_count": 12,
   "source": [
    "cleaning(hist_full[\"Adj Close**\"])\n",
    "hist_full[\"Adj Close**\"] = hist_full[\"Adj Close**\"].astype(\"float\")"
   ],
   "outputs": [],
   "metadata": {}
  },
  {
   "cell_type": "code",
   "execution_count": 17,
   "source": [
    "hist_full = hist_full.dropna(how='any',axis=0) "
   ],
   "outputs": [],
   "metadata": {}
  },
  {
   "cell_type": "code",
   "execution_count": 18,
   "source": [
    "hist_full.dtypes"
   ],
   "outputs": [
    {
     "output_type": "execute_result",
     "data": {
      "text/plain": [
       "Date           datetime64[ns]\n",
       "Open                  float64\n",
       "High                  float64\n",
       "Low                   float64\n",
       "Close*                float64\n",
       "Adj Close**           float64\n",
       "Volume                 object\n",
       "dtype: object"
      ]
     },
     "metadata": {},
     "execution_count": 18
    }
   ],
   "metadata": {}
  },
  {
   "cell_type": "code",
   "execution_count": 19,
   "source": [
    "hist_full.to_csv('hist2014-2021.csv', header=False, index=False)"
   ],
   "outputs": [],
   "metadata": {}
  }
 ],
 "metadata": {
  "kernelspec": {
   "name": "python3",
   "display_name": "Python 3.7.10 64-bit ('PythonData': conda)"
  },
  "language_info": {
   "codemirror_mode": {
    "name": "ipython",
    "version": 3
   },
   "file_extension": ".py",
   "mimetype": "text/x-python",
   "name": "python",
   "nbconvert_exporter": "python",
   "pygments_lexer": "ipython3",
   "version": "3.7.10"
  },
  "interpreter": {
   "hash": "8100133e95b8c54b00026d99b06c1e0b98d0c3a6f28fa0153640ad37201d55b8"
  }
 },
 "nbformat": 4,
 "nbformat_minor": 5
}