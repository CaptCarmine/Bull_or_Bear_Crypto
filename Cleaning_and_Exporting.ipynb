{
 "cells": [
  {
   "cell_type": "markdown",
   "source": [
    "# Cleaning and Exporting to CSV"
   ],
   "metadata": {}
  },
  {
   "cell_type": "code",
   "execution_count": 1,
   "source": [
    "# Imports to load from subdirectories\n",
    "import sys\n",
    "sys.path.insert(0, './load')\n",
    "\n",
    "# Imports for the YF scraper \n",
    "from Yahoo_Finance_Scraper import get_historical_data\n",
    "from webdriver_manager.chrome import ChromeDriverManager\n",
    "from splinter import Browser\n",
    "import numpy as np"
   ],
   "outputs": [],
   "metadata": {}
  },
  {
   "cell_type": "code",
   "execution_count": 2,
   "source": [
    "# Minimal code to run it\n",
    "executable_path = {'executable_path': ChromeDriverManager().install()}\n",
    "browser = Browser('chrome', **executable_path, headless = True)\n",
    "btc_data = get_historical_data(browser, 'BTC-USD', '9/17/2014', '9/29/2021')\n",
    "eth_data = get_historical_data(browser, 'ETH-USD', '9/17/2014', '9/29/2021') \n",
    "ada_data = get_historical_data(browser, 'ADA-USD', '9/17/2014', '9/29/2021')\n",
    "browser.quit()\n",
    "print(btc_data.shape, eth_data.shape, ada_data.shape)"
   ],
   "outputs": [
    {
     "output_type": "stream",
     "name": "stderr",
     "text": [
      "\n",
      "\n",
      "====== WebDriver manager ======\n",
      "Current google-chrome version is 94.0.4606\n",
      "Get LATEST driver version for 94.0.4606\n",
      "Driver [/Users/albertomontilla/.wdm/drivers/chromedriver/mac64/94.0.4606.61/chromedriver] found in cache\n"
     ]
    },
    {
     "output_type": "stream",
     "name": "stdout",
     "text": [
      "(2571, 7) (2247, 7) (1461, 7)\n"
     ]
    }
   ],
   "metadata": {}
  },
  {
   "cell_type": "code",
   "execution_count": 6,
   "source": [
    "btc_data.head"
   ],
   "outputs": [
    {
     "output_type": "execute_result",
     "data": {
      "text/plain": [
       "<bound method NDFrame.head of            Date       Open       High        Low     Close* Adj Close**  \\\n",
       "0    2014-09-17     465.86     468.17     452.42     457.33      457.33   \n",
       "1    2014-09-18     456.86     456.86     413.10     424.44      424.44   \n",
       "2    2014-09-19     424.10     427.83     384.53     394.80      394.80   \n",
       "3    2014-09-20     394.67     423.30     389.88     408.90      408.90   \n",
       "4    2014-09-21     408.08     412.43     393.18     398.82      398.82   \n",
       "...         ...        ...        ...        ...        ...         ...   \n",
       "2566 2021-09-25  42,840.89  42,996.26  41,759.92  42,716.59   42,716.59   \n",
       "2567 2021-09-26  42,721.63  43,919.30  40,848.46  43,208.54   43,208.54   \n",
       "2568 2021-09-27  43,234.18  44,313.25  42,190.63  42,235.73   42,235.73   \n",
       "2569 2021-09-28  42,200.90  42,775.14  40,931.66  41,034.54   41,034.54   \n",
       "2570 2021-09-29  41,064.98  42,545.26  40,829.67  41,564.36   41,564.36   \n",
       "\n",
       "              Volume  \n",
       "0         21,056,800  \n",
       "1         34,483,200  \n",
       "2         37,919,700  \n",
       "3         36,863,600  \n",
       "4         26,580,100  \n",
       "...              ...  \n",
       "2566  31,604,717,236  \n",
       "2567  30,661,222,077  \n",
       "2568  30,980,029,059  \n",
       "2569  30,214,940,550  \n",
       "2570  30,602,359,905  \n",
       "\n",
       "[2571 rows x 7 columns]>"
      ]
     },
     "metadata": {},
     "execution_count": 6
    }
   ],
   "metadata": {}
  },
  {
   "cell_type": "code",
   "execution_count": 7,
   "source": [
    "eth_data.head"
   ],
   "outputs": [
    {
     "output_type": "execute_result",
     "data": {
      "text/plain": [
       "<bound method NDFrame.head of            Date      Open      High       Low    Close* Adj Close**  \\\n",
       "0    2015-08-07      2.83      3.54      2.52      2.77        2.77   \n",
       "1    2015-08-08      2.79      2.80      0.71      0.75        0.75   \n",
       "2    2015-08-09      0.71      0.88      0.63      0.70        0.70   \n",
       "3    2015-08-10      0.71      0.73      0.64      0.71        0.71   \n",
       "4    2015-08-11      0.71      1.13      0.66      1.07        1.07   \n",
       "...         ...       ...       ...       ...       ...         ...   \n",
       "2242 2021-09-25  2,930.88  2,968.99  2,818.97  2,925.57    2,925.57   \n",
       "2243 2021-09-26  2,926.34  3,114.86  2,744.58  3,062.27    3,062.27   \n",
       "2244 2021-09-27  3,065.84  3,163.67  2,932.69  2,934.14    2,934.14   \n",
       "2245 2021-09-28  2,928.96  2,970.77  2,793.36  2,807.30    2,807.30   \n",
       "2246 2021-09-29  2,809.30  2,946.88  2,786.99  2,853.14    2,853.14   \n",
       "\n",
       "              Volume  \n",
       "0            164,329  \n",
       "1            674,188  \n",
       "2            532,170  \n",
       "3            405,283  \n",
       "4          1,463,100  \n",
       "...              ...  \n",
       "2242  18,932,786,754  \n",
       "2243  21,172,766,310  \n",
       "2244  19,164,053,681  \n",
       "2245  16,895,079,070  \n",
       "2246  15,763,456,158  \n",
       "\n",
       "[2247 rows x 7 columns]>"
      ]
     },
     "metadata": {},
     "execution_count": 7
    }
   ],
   "metadata": {}
  },
  {
   "cell_type": "code",
   "execution_count": 8,
   "source": [
    "ada_data.head"
   ],
   "outputs": [
    {
     "output_type": "execute_result",
     "data": {
      "text/plain": [
       "<bound method NDFrame.head of            Date    Open    High     Low  Close* Adj Close**      Volume\n",
       "0    2017-10-01  0.0217  0.0322  0.0174  0.0250      0.0250  50,068,700\n",
       "1    2017-10-02  0.0246  0.0301  0.0200  0.0259      0.0259  57,641,300\n",
       "2    2017-10-03  0.0258  0.0274  0.0207  0.0208      0.0208  16,997,800\n",
       "3    2017-10-04  0.0209  0.0228  0.0209  0.0219      0.0219   9,000,050\n",
       "4    2017-10-05  0.0220  0.0222  0.0209  0.0215      0.0215   5,562,510\n",
       "...         ...     ...     ...     ...     ...         ...         ...\n",
       "1456 2021-09-25       -       -       -       -           -           -\n",
       "1457 2021-09-26       -       -       -       -           -           -\n",
       "1458 2021-09-27       -       -       -       -           -           -\n",
       "1459 2021-09-28       -       -       -       -           -           -\n",
       "1460 2021-09-29       -       -       -       -           -           -\n",
       "\n",
       "[1461 rows x 7 columns]>"
      ]
     },
     "metadata": {},
     "execution_count": 8
    }
   ],
   "metadata": {}
  },
  {
   "cell_type": "code",
   "execution_count": 5,
   "source": [
    "# Formatting columns function\n",
    "def cleaning(column):\n",
    "    column.replace(',', '', regex=True, inplace=True)\n",
    "    column.replace('-', '', regex=True, inplace=True)\n",
    "    column.replace(r'^\\s*$', np.nan, regex=True, inplace=True)"
   ],
   "outputs": [],
   "metadata": {}
  },
  {
   "cell_type": "markdown",
   "source": [
    "# BITCOIN"
   ],
   "metadata": {}
  },
  {
   "cell_type": "code",
   "execution_count": null,
   "source": [
    "# Dropping NA values from the data\n",
    "btc_data = btc_data.dropna(how='any',axis=0) "
   ],
   "outputs": [],
   "metadata": {}
  },
  {
   "cell_type": "code",
   "execution_count": 11,
   "source": [
    "# Cleaning and changing the column value types \n",
    "cleaning(btc_data[\"Open\"])\n",
    "btc_data[\"Open\"] = btc_data[\"Open\"].astype(\"float\")\n",
    "cleaning(btc_data[\"Close*\"])\n",
    "btc_data[\"Close*\"] = btc_data['Close*'].astype(\"float\")\n",
    "cleaning(btc_data[\"High\"])\n",
    "btc_data[\"High\"] = btc_data[\"High\"].astype(\"float\")\n",
    "cleaning(btc_data[\"Low\"])\n",
    "btc_data[\"Low\"] = btc_data[\"Low\"].astype(\"float\")\n",
    "cleaning(btc_data[\"Adj Close**\"])\n",
    "btc_data[\"Adj Close**\"] = btc_data[\"Adj Close**\"].astype(\"float\")"
   ],
   "outputs": [],
   "metadata": {}
  },
  {
   "cell_type": "code",
   "execution_count": 12,
   "source": [
    "btc_data.dtypes"
   ],
   "outputs": [
    {
     "output_type": "execute_result",
     "data": {
      "text/plain": [
       "Date           datetime64[ns]\n",
       "Open                  float64\n",
       "High                  float64\n",
       "Low                   float64\n",
       "Close*                float64\n",
       "Adj Close**           float64\n",
       "Volume                 object\n",
       "dtype: object"
      ]
     },
     "metadata": {},
     "execution_count": 12
    }
   ],
   "metadata": {}
  },
  {
   "cell_type": "code",
   "execution_count": 13,
   "source": [
    "# Exporting the data to a CSV File\n",
    "btc_data.to_csv('BTC-USD', header=False, index=False)"
   ],
   "outputs": [],
   "metadata": {}
  },
  {
   "cell_type": "markdown",
   "source": [
    "# ETHEREUM"
   ],
   "metadata": {}
  },
  {
   "cell_type": "code",
   "execution_count": 14,
   "source": [
    "# Dropping NA values from the data\n",
    "eth_data = eth_data.dropna(how='any',axis=0) "
   ],
   "outputs": [],
   "metadata": {}
  },
  {
   "cell_type": "code",
   "execution_count": 15,
   "source": [
    "# Cleaning and changing the column value types \n",
    "cleaning(eth_data[\"Open\"])\n",
    "eth_data[\"Open\"] = eth_data[\"Open\"].astype(\"float\")\n",
    "cleaning(eth_data[\"Close*\"])\n",
    "eth_data[\"Close*\"] = eth_data['Close*'].astype(\"float\")\n",
    "cleaning(eth_data[\"High\"])\n",
    "eth_data[\"High\"] = eth_data[\"High\"].astype(\"float\")\n",
    "cleaning(eth_data[\"Low\"])\n",
    "eth_data[\"Low\"] = eth_data[\"Low\"].astype(\"float\")\n",
    "cleaning(eth_data[\"Adj Close**\"])\n",
    "eth_data[\"Adj Close**\"] = eth_data[\"Adj Close**\"].astype(\"float\")"
   ],
   "outputs": [],
   "metadata": {}
  },
  {
   "cell_type": "code",
   "execution_count": 16,
   "source": [
    "eth_data.dtypes"
   ],
   "outputs": [
    {
     "output_type": "execute_result",
     "data": {
      "text/plain": [
       "Date           datetime64[ns]\n",
       "Open                  float64\n",
       "High                  float64\n",
       "Low                   float64\n",
       "Close*                float64\n",
       "Adj Close**           float64\n",
       "Volume                 object\n",
       "dtype: object"
      ]
     },
     "metadata": {},
     "execution_count": 16
    }
   ],
   "metadata": {}
  },
  {
   "cell_type": "code",
   "execution_count": 17,
   "source": [
    "# Exporting the data to a CSV File\n",
    "eth_data.to_csv('ETH-USD', header=False, index=False)"
   ],
   "outputs": [],
   "metadata": {}
  }
 ],
 "metadata": {
  "kernelspec": {
   "name": "python3",
   "display_name": "Python 3.7.10 64-bit ('PythonData': conda)"
  },
  "language_info": {
   "codemirror_mode": {
    "name": "ipython",
    "version": 3
   },
   "file_extension": ".py",
   "mimetype": "text/x-python",
   "name": "python",
   "nbconvert_exporter": "python",
   "pygments_lexer": "ipython3",
   "version": "3.7.10"
  },
  "interpreter": {
   "hash": "8100133e95b8c54b00026d99b06c1e0b98d0c3a6f28fa0153640ad37201d55b8"
  }
 },
 "nbformat": 4,
 "nbformat_minor": 5
}