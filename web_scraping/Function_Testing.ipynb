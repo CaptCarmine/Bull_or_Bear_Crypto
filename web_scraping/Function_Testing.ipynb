{
 "cells": [
  {
   "cell_type": "markdown",
   "id": "c9db62f4",
   "metadata": {},
   "source": [
    "# Yahoo Finance Scraper"
   ]
  },
  {
   "cell_type": "code",
   "execution_count": 1,
   "id": "ce431261",
   "metadata": {},
   "outputs": [],
   "source": [
    "#imports to load from subdirectories\n",
    "import sys\n",
    "sys.path.insert(0, './load')\n",
    "\n",
    "#imports for the YF scraper\n",
    "from Yahoo_Finance_Scraper import get_historical_data\n",
    "from webdriver_manager.chrome import ChromeDriverManager\n",
    "from splinter import Browser"
   ]
  },
  {
   "cell_type": "code",
   "execution_count": 2,
   "id": "713ea797",
   "metadata": {},
   "outputs": [
    {
     "name": "stdout",
     "output_type": "stream",
     "text": [
      "Help on function get_historical_data in module Yahoo_Finance_Scraper:\n",
      "\n",
      "get_historical_data(browser, ticker, start, end)\n",
      "    Given a list of crypto tickers and a start and end data (format = ‘mm/dd/yyyy’) return the historical price data from Yahoo Finance.\n",
      "\n"
     ]
    }
   ],
   "source": [
    "help(get_historical_data)"
   ]
  },
  {
   "cell_type": "code",
   "execution_count": 3,
   "id": "037dd848",
   "metadata": {},
   "outputs": [
    {
     "name": "stderr",
     "output_type": "stream",
     "text": [
      "\n",
      "\n",
      "====== WebDriver manager ======\n",
      "Current google-chrome version is 93.0.4577\n",
      "Get LATEST driver version for 93.0.4577\n",
      "Get LATEST driver version for 93.0.4577\n",
      "Trying to download new driver from https://chromedriver.storage.googleapis.com/93.0.4577.63/chromedriver_win32.zip\n",
      "Driver has been saved in cache [C:\\Users\\karar\\.wdm\\drivers\\chromedriver\\win32\\93.0.4577.63]\n"
     ]
    },
    {
     "name": "stdout",
     "output_type": "stream",
     "text": [
      "(367, 7)\n"
     ]
    },
    {
     "data": {
      "text/html": [
       "<div>\n",
       "<style scoped>\n",
       "    .dataframe tbody tr th:only-of-type {\n",
       "        vertical-align: middle;\n",
       "    }\n",
       "\n",
       "    .dataframe tbody tr th {\n",
       "        vertical-align: top;\n",
       "    }\n",
       "\n",
       "    .dataframe thead th {\n",
       "        text-align: right;\n",
       "    }\n",
       "</style>\n",
       "<table border=\"1\" class=\"dataframe\">\n",
       "  <thead>\n",
       "    <tr style=\"text-align: right;\">\n",
       "      <th></th>\n",
       "      <th>Date</th>\n",
       "      <th>Open</th>\n",
       "      <th>High</th>\n",
       "      <th>Low</th>\n",
       "      <th>Close*</th>\n",
       "      <th>Adj Close**</th>\n",
       "      <th>Volume</th>\n",
       "    </tr>\n",
       "  </thead>\n",
       "  <tbody>\n",
       "    <tr>\n",
       "      <th>0</th>\n",
       "      <td>2017-12-01</td>\n",
       "      <td>10,198.60</td>\n",
       "      <td>11,046.70</td>\n",
       "      <td>9,694.65</td>\n",
       "      <td>10,975.60</td>\n",
       "      <td>10,975.60</td>\n",
       "      <td>6,783,119,872</td>\n",
       "    </tr>\n",
       "    <tr>\n",
       "      <th>1</th>\n",
       "      <td>2017-12-02</td>\n",
       "      <td>10,978.30</td>\n",
       "      <td>11,320.20</td>\n",
       "      <td>10,905.10</td>\n",
       "      <td>11,074.60</td>\n",
       "      <td>11,074.60</td>\n",
       "      <td>5,138,500,096</td>\n",
       "    </tr>\n",
       "    <tr>\n",
       "      <th>2</th>\n",
       "      <td>2017-12-03</td>\n",
       "      <td>11,082.70</td>\n",
       "      <td>11,858.70</td>\n",
       "      <td>10,862.00</td>\n",
       "      <td>11,323.20</td>\n",
       "      <td>11,323.20</td>\n",
       "      <td>6,608,309,760</td>\n",
       "    </tr>\n",
       "    <tr>\n",
       "      <th>3</th>\n",
       "      <td>2017-12-04</td>\n",
       "      <td>11,315.40</td>\n",
       "      <td>11,657.20</td>\n",
       "      <td>11,081.80</td>\n",
       "      <td>11,657.20</td>\n",
       "      <td>11,657.20</td>\n",
       "      <td>6,132,409,856</td>\n",
       "    </tr>\n",
       "    <tr>\n",
       "      <th>4</th>\n",
       "      <td>2017-12-05</td>\n",
       "      <td>11,685.70</td>\n",
       "      <td>12,032.00</td>\n",
       "      <td>11,604.60</td>\n",
       "      <td>11,916.70</td>\n",
       "      <td>11,916.70</td>\n",
       "      <td>6,895,260,160</td>\n",
       "    </tr>\n",
       "    <tr>\n",
       "      <th>5</th>\n",
       "      <td>2017-12-06</td>\n",
       "      <td>11,923.40</td>\n",
       "      <td>14,369.10</td>\n",
       "      <td>11,923.40</td>\n",
       "      <td>14,291.50</td>\n",
       "      <td>14,291.50</td>\n",
       "      <td>12,656,300,032</td>\n",
       "    </tr>\n",
       "    <tr>\n",
       "      <th>6</th>\n",
       "      <td>2017-12-07</td>\n",
       "      <td>14,266.10</td>\n",
       "      <td>17,899.70</td>\n",
       "      <td>14,057.30</td>\n",
       "      <td>17,899.70</td>\n",
       "      <td>17,899.70</td>\n",
       "      <td>17,950,699,520</td>\n",
       "    </tr>\n",
       "    <tr>\n",
       "      <th>7</th>\n",
       "      <td>2017-12-08</td>\n",
       "      <td>17,802.90</td>\n",
       "      <td>18,353.40</td>\n",
       "      <td>14,336.90</td>\n",
       "      <td>16,569.40</td>\n",
       "      <td>16,569.40</td>\n",
       "      <td>21,135,998,976</td>\n",
       "    </tr>\n",
       "    <tr>\n",
       "      <th>8</th>\n",
       "      <td>2017-12-09</td>\n",
       "      <td>16,523.30</td>\n",
       "      <td>16,783.00</td>\n",
       "      <td>13,674.90</td>\n",
       "      <td>15,178.20</td>\n",
       "      <td>15,178.20</td>\n",
       "      <td>13,911,300,096</td>\n",
       "    </tr>\n",
       "    <tr>\n",
       "      <th>9</th>\n",
       "      <td>2017-12-10</td>\n",
       "      <td>15,168.40</td>\n",
       "      <td>15,850.60</td>\n",
       "      <td>13,226.60</td>\n",
       "      <td>15,455.40</td>\n",
       "      <td>15,455.40</td>\n",
       "      <td>13,433,299,968</td>\n",
       "    </tr>\n",
       "  </tbody>\n",
       "</table>\n",
       "</div>"
      ],
      "text/plain": [
       "        Date       Open       High        Low     Close* Adj Close**  \\\n",
       "0 2017-12-01  10,198.60  11,046.70   9,694.65  10,975.60   10,975.60   \n",
       "1 2017-12-02  10,978.30  11,320.20  10,905.10  11,074.60   11,074.60   \n",
       "2 2017-12-03  11,082.70  11,858.70  10,862.00  11,323.20   11,323.20   \n",
       "3 2017-12-04  11,315.40  11,657.20  11,081.80  11,657.20   11,657.20   \n",
       "4 2017-12-05  11,685.70  12,032.00  11,604.60  11,916.70   11,916.70   \n",
       "5 2017-12-06  11,923.40  14,369.10  11,923.40  14,291.50   14,291.50   \n",
       "6 2017-12-07  14,266.10  17,899.70  14,057.30  17,899.70   17,899.70   \n",
       "7 2017-12-08  17,802.90  18,353.40  14,336.90  16,569.40   16,569.40   \n",
       "8 2017-12-09  16,523.30  16,783.00  13,674.90  15,178.20   15,178.20   \n",
       "9 2017-12-10  15,168.40  15,850.60  13,226.60  15,455.40   15,455.40   \n",
       "\n",
       "           Volume  \n",
       "0   6,783,119,872  \n",
       "1   5,138,500,096  \n",
       "2   6,608,309,760  \n",
       "3   6,132,409,856  \n",
       "4   6,895,260,160  \n",
       "5  12,656,300,032  \n",
       "6  17,950,699,520  \n",
       "7  21,135,998,976  \n",
       "8  13,911,300,096  \n",
       "9  13,433,299,968  "
      ]
     },
     "execution_count": 3,
     "metadata": {},
     "output_type": "execute_result"
    }
   ],
   "source": [
    "#minimal code to run it\n",
    "executable_path = {'executable_path': ChromeDriverManager().install()}\n",
    "browser = Browser('chrome', **executable_path, headless = True)\n",
    "hist = get_historical_data(browser, 'BTC-USD', '12/1/2017', '12/1/2018')\n",
    "browser.quit()\n",
    "print(hist.shape)\n",
    "hist.head(10)"
   ]
  },
  {
   "cell_type": "markdown",
   "id": "eda4a140",
   "metadata": {},
   "source": [
    "# Reddit API Caller\n",
    "This function requires pip installing two new packages:\n",
    "\n",
    "1) langid\n",
    "\n",
    "2) nltk\n",
    "\n",
    "You should only need to download the 'vader_lexicon' once, but it doesn't hurt to run it once at the start of the code"
   ]
  },
  {
   "cell_type": "code",
   "execution_count": 2,
   "id": "6d464d3b",
   "metadata": {},
   "outputs": [
    {
     "name": "stderr",
     "output_type": "stream",
     "text": [
      "[nltk_data] Downloading package vader_lexicon to\n",
      "[nltk_data]     C:\\Users\\karar\\AppData\\Roaming\\nltk_data...\n",
      "[nltk_data]   Package vader_lexicon is already up-to-date!\n"
     ]
    }
   ],
   "source": [
    "#imports to load from subdirectories\n",
    "import sys\n",
    "sys.path.insert(0, './load')\n",
    "\n",
    "#imports for the reddit API caller\n",
    "from Reddit_API_Caller import fetch_reddit_data\n",
    "\n",
    "# packages for api request\n",
    "import requests as re\n",
    "import time\n",
    "\n",
    "#language detection\n",
    "import langid\n",
    "\n",
    "#package for sentiment analysis\n",
    "import nltk\n",
    "nltk.download('vader_lexicon')\n",
    "from nltk.sentiment.vader import SentimentIntensityAnalyzer as SIA\n",
    "sia = SIA()"
   ]
  },
  {
   "cell_type": "code",
   "execution_count": 3,
   "id": "b8afa538",
   "metadata": {},
   "outputs": [
    {
     "name": "stdout",
     "output_type": "stream",
     "text": [
      "Help on function fetch_reddit_data in module Reddit_API_Caller:\n",
      "\n",
      "fetch_reddit_data(sia, start, end, coin, restrict_score='>0', size=50, fields=['num_comments', 'title', 'score', 'upvote_ratio', 'subreddit'])\n",
      "    Given sentiment analyzer, a date range and coin:\n",
      "    1) Get size reddit posts about that coin sorted from highest to lowest score.\n",
      "    2) Remove duplicated posts.\n",
      "    3) Remove non-english posts.\n",
      "    4) Get sentiment scores.\n",
      "        restrict_score must be in the format >int or <int\n",
      "        max value for size is 500\n",
      "\n"
     ]
    }
   ],
   "source": [
    "help(fetch_reddit_data)"
   ]
  },
  {
   "cell_type": "code",
   "execution_count": 8,
   "id": "c7de4e37",
   "metadata": {
    "scrolled": false
   },
   "outputs": [
    {
     "data": {
      "text/plain": [
       "91"
      ]
     },
     "execution_count": 8,
     "metadata": {},
     "output_type": "execute_result"
    }
   ],
   "source": [
    "reddit_posts = fetch_reddit_data(sia, '12/30/2020', '12/31/2020', 'Bitcoin', size = 500)\n",
    "print(len(reddit_posts))\n",
    "for post in reddit_posts:\n",
    "    print(post)\n",
    "    print('---------------------')"
   ]
  },
  {
   "cell_type": "markdown",
   "id": "b1d6a602",
   "metadata": {},
   "source": [
    "# Twitter API Caller\n",
    "This function requires pip installing three new packages:\n",
    "\n",
    "1) langid\n",
    "\n",
    "2) nltk\n",
    "\n",
    "3) python-twitter\n",
    "\n",
    "You should only need to download the 'vader_lexicon' once, but it doesn't hurt to run it once at the start of the code\n",
    "\n",
    "Additionally, this function requires a set of API keys and secrets.  This test expects the credentials to be in the format of:\n",
    "\n",
    "``credentials = {\n",
    "    'CONSUMER_KEY': '',\n",
    "    'CONSUMER_SECRET': '',\n",
    "    'ACCESS_TOKEN': '',\n",
    "    'ACCESS_SECRET': '',\n",
    "}``\n",
    "\n",
    "But as long as the twitter.Api() function gets those four pieces of data somehow, it doesn't matter what structure you use in the long run.\n"
   ]
  },
  {
   "cell_type": "code",
   "execution_count": 1,
   "id": "b5dee65b",
   "metadata": {},
   "outputs": [
    {
     "name": "stderr",
     "output_type": "stream",
     "text": [
      "[nltk_data] Downloading package vader_lexicon to\n",
      "[nltk_data]     C:\\Users\\karar\\AppData\\Roaming\\nltk_data...\n",
      "[nltk_data]   Package vader_lexicon is already up-to-date!\n"
     ]
    }
   ],
   "source": [
    "import twitter\n",
    "import sys\n",
    "\n",
    "#language detection\n",
    "import langid\n",
    "\n",
    "#package for sentiment analysis\n",
    "import nltk\n",
    "nltk.download('vader_lexicon')\n",
    "from nltk.sentiment.vader import SentimentIntensityAnalyzer as SIA\n",
    "\n",
    "# get the credentials\n",
    "sys.path.insert(0, './load')\n",
    "from config import credentials\n",
    "from Twitter_API_Caller import fetch_twitter_data"
   ]
  },
  {
   "cell_type": "code",
   "execution_count": 2,
   "id": "643db522",
   "metadata": {},
   "outputs": [
    {
     "name": "stdout",
     "output_type": "stream",
     "text": [
      "Help on function fetch_twitter_data in module Twitter_API_Caller:\n",
      "\n",
      "fetch_twitter_data(sia, api, start, end, coin, size=50)\n",
      "    Given sentiment analyzer, a date range and coin:\n",
      "    1) Get size twitter posts about that coin.\n",
      "    2) Get sentiment scores.\n",
      "        restrict_score must be in the format >int or <int\n",
      "        max value for size is 100\n",
      "    Date ranges are expected in 'YYY-MM-DD' format\n",
      "    Returned tweets are already filtered to be in English and pulled from \"popular\" for the time span.\n",
      "    I am not sure what metric twitter uses to define whether a tweet counts as popular or not, but this\n",
      "    does not return all tweets for teh day sorted form most to least popular, as removing the popular flag\n",
      "    returned more tweets.\n",
      "\n"
     ]
    }
   ],
   "source": [
    "help(fetch_twitter_data)"
   ]
  },
  {
   "cell_type": "code",
   "execution_count": 3,
   "id": "2f94d01d",
   "metadata": {},
   "outputs": [],
   "source": [
    "sia = SIA()\n",
    "api = twitter.Api(consumer_key = credentials['CONSUMER_KEY'],\n",
    "                 consumer_secret = credentials['CONSUMER_SECRET'],\n",
    "                 access_token_key = credentials['ACCESS_TOKEN'],\n",
    "                 access_token_secret = credentials['ACCESS_SECRET'])"
   ]
  },
  {
   "cell_type": "code",
   "execution_count": 4,
   "id": "9d5e5ae2",
   "metadata": {},
   "outputs": [],
   "source": [
    "twitter_posts = fetch_twitter_data(sia, api, '2021-10-01', '2021-10-02', 'Ethereum')"
   ]
  },
  {
   "cell_type": "code",
   "execution_count": 5,
   "id": "054863cb",
   "metadata": {},
   "outputs": [
    {
     "name": "stdout",
     "output_type": "stream",
     "text": [
      "15\n",
      "\n",
      "{'text': '#AuctionUpdate Curio Cards, a set of 31 NFTs considered to be the oldest artworks on the Ethereum blockchain sold f… https://t.co/VXbjJRxVai', 'created:': 'Fri Oct 01 14:35:11 +0000 2021', 'favorites': 1591, 'retweets': 591, 'followers': 168019, 'sentiment_scores': {'neg': 0.0, 'neu': 1.0, 'pos': 0.0, 'compound': 0.0}}\n",
      "---------------------\n",
      "{'text': 'If wash rules are applied to digital assets, selling &amp; volatility will dramatically decrease. #Bitcoin 🚀\\nhttps://t.co/5WUC7AvcOw', 'created:': 'Fri Oct 01 13:26:12 +0000 2021', 'favorites': 2887, 'retweets': 429, 'followers': 1640216, 'sentiment_scores': {'neg': 0.0, 'neu': 0.898, 'pos': 0.102, 'compound': 0.1779}}\n",
      "---------------------\n",
      "{'text': 'Will Ethereum flip Bitcoin this year?', 'created:': 'Fri Oct 01 22:14:04 +0000 2021', 'favorites': 3403, 'retweets': 233, 'followers': 554897, 'sentiment_scores': {'neg': 0.0, 'neu': 1.0, 'pos': 0.0, 'compound': 0.0}}\n",
      "---------------------\n",
      "{'text': '✨ Polygon is now a community of 700K+ members visioning to bring Ethereum to the 🌎 at scale.\\n\\n❤️ The community only… https://t.co/I7dl2ov1Fc', 'created:': 'Fri Oct 01 14:30:21 +0000 2021', 'favorites': 1153, 'retweets': 233, 'followers': 725537, 'sentiment_scores': {'neg': 0.0, 'neu': 0.9, 'pos': 0.1, 'compound': 0.2732}}\n",
      "---------------------\n",
      "{'text': 'Talking of luscious charts, the ETH/BTC cross has seen a lovely consolidation and should move to near double from h… https://t.co/xOS94hnDzR', 'created:': 'Fri Oct 01 14:38:26 +0000 2021', 'favorites': 2476, 'retweets': 281, 'followers': 670156, 'sentiment_scores': {'neg': 0.0, 'neu': 0.833, 'pos': 0.167, 'compound': 0.5859}}\n",
      "---------------------\n",
      "{'text': 'Billy Markus, the co-founder of #Doge, explained that an Ethereum bridge to the Doge network would bolster the… https://t.co/8xenj1IheH', 'created:': 'Fri Oct 01 04:32:55 +0000 2021', 'favorites': 894, 'retweets': 306, 'followers': 1792274, 'sentiment_scores': {'neg': 0.0, 'neu': 1.0, 'pos': 0.0, 'compound': 0.0}}\n",
      "---------------------\n",
      "{'text': 'UPDATE: You can now set the Marketplace prices to display in Ethereum. \\n\\nJust click the toggle to the right of the… https://t.co/UApdl4SxWm', 'created:': 'Fri Oct 01 19:00:52 +0000 2021', 'favorites': 348, 'retweets': 73, 'followers': 68642, 'sentiment_scores': {'neg': 0.0, 'neu': 1.0, 'pos': 0.0, 'compound': 0.0}}\n",
      "---------------------\n",
      "{'text': 'Our partnership with @Verifone brings #Ethereum payments to 46 million consumers via their point of sale systems!… https://t.co/znYKLkjvzs', 'created:': 'Fri Oct 01 14:00:01 +0000 2021', 'favorites': 274, 'retweets': 71, 'followers': 338703, 'sentiment_scores': {'neg': 0.0, 'neu': 1.0, 'pos': 0.0, 'compound': 0.0}}\n",
      "---------------------\n",
      "{'text': 'Is ethereum the future of the internet? https://t.co/pkLYl6AiFR', 'created:': 'Fri Oct 01 06:30:07 +0000 2021', 'favorites': 365, 'retweets': 100, 'followers': 7012939, 'sentiment_scores': {'neg': 0.0, 'neu': 1.0, 'pos': 0.0, 'compound': 0.0}}\n",
      "---------------------\n",
      "{'text': 'Zilliqa, @SwitcheoNetwork and @PolyNetwork2: what a powerful combination for success! \\n\\n@crowdfundinside \\nhttps://t.co/FoqSDOqcrE', 'created:': 'Fri Oct 01 09:55:17 +0000 2021', 'favorites': 320, 'retweets': 76, 'followers': 333528, 'sentiment_scores': {'neg': 0.0, 'neu': 0.57, 'pos': 0.43, 'compound': 0.7777}}\n",
      "---------------------\n",
      "{'text': 'Next #CSL6 Match in -----&gt; 30 mins ⏳\\n\\nEthereum Miners $MATIC vs Internet of Nakamoto $VET\\n\\nReply &amp; tell us who are… https://t.co/ghTsWWBQ5D', 'created:': 'Fri Oct 01 13:30:02 +0000 2021', 'favorites': 390, 'retweets': 55, 'followers': 351536, 'sentiment_scores': {'neg': 0.0, 'neu': 1.0, 'pos': 0.0, 'compound': 0.0}}\n",
      "---------------------\n",
      "{'text': 'So while I was out in El Salvador I met @lrettig at a dinner. He wanted to tell the story of why he quit the Ethere… https://t.co/560LNLRCtD', 'created:': 'Fri Oct 01 18:04:23 +0000 2021', 'favorites': 263, 'retweets': 28, 'followers': 368966, 'sentiment_scores': {'neg': 0.0, 'neu': 1.0, 'pos': 0.0, 'compound': 0.0}}\n",
      "---------------------\n",
      "{'text': 'This morning, a complete set of @MyCurioCards will be auctioned off at @ChristiesInc. It’s a “historic” sale becaus… https://t.co/o7RYEpiO3t', 'created:': 'Fri Oct 01 12:44:39 +0000 2021', 'favorites': 83, 'retweets': 17, 'followers': 10533, 'sentiment_scores': {'neg': 0.0, 'neu': 1.0, 'pos': 0.0, 'compound': 0.0}}\n",
      "---------------------\n",
      "{'text': 'I ♥ what @Wowswap_io is doing. \\nLeverage Trading of #NFTs on Ethereum?! Seriously???\\nAnd APY on ETH is ~50%. Just u… https://t.co/XWtIrQb8C9', 'created:': 'Fri Oct 01 10:06:13 +0000 2021', 'favorites': 768, 'retweets': 25, 'followers': 520808, 'sentiment_scores': {'neg': 0.134, 'neu': 0.866, 'pos': 0.0, 'compound': -0.4501}}\n",
      "---------------------\n",
      "{'text': 'October is off to a good start: crypto markets are on the rise. Top cryptocurrencies are surging 8 to 10%,… https://t.co/Mcg5a1Mioq', 'created:': 'Fri Oct 01 12:01:29 +0000 2021', 'favorites': 181, 'retweets': 49, 'followers': 365918, 'sentiment_scores': {'neg': 0.0, 'neu': 0.783, 'pos': 0.217, 'compound': 0.5719}}\n",
      "---------------------\n"
     ]
    }
   ],
   "source": [
    "print(len(twitter_posts))\n",
    "print('')\n",
    "for post in twitter_posts:\n",
    "    print(post)\n",
    "    print('---------------------')"
   ]
  },
  {
   "cell_type": "code",
   "execution_count": null,
   "id": "de60862d",
   "metadata": {},
   "outputs": [],
   "source": []
  }
 ],
 "metadata": {
  "kernelspec": {
   "display_name": "PythonData",
   "language": "python",
   "name": "pythondata"
  },
  "language_info": {
   "codemirror_mode": {
    "name": "ipython",
    "version": 3
   },
   "file_extension": ".py",
   "mimetype": "text/x-python",
   "name": "python",
   "nbconvert_exporter": "python",
   "pygments_lexer": "ipython3",
   "version": "3.7.10"
  }
 },
 "nbformat": 4,
 "nbformat_minor": 5
}
