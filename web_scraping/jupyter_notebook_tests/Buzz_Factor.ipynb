{
 "cells": [
  {
   "cell_type": "markdown",
   "id": "7252efd6",
   "metadata": {},
   "source": [
    "# Reddit"
   ]
  },
  {
   "cell_type": "code",
   "execution_count": 3,
   "id": "c6514742",
   "metadata": {},
   "outputs": [
    {
     "name": "stderr",
     "output_type": "stream",
     "text": [
      "[nltk_data] Downloading package vader_lexicon to\n",
      "[nltk_data]     C:\\Users\\karar\\AppData\\Roaming\\nltk_data...\n",
      "[nltk_data]   Package vader_lexicon is already up-to-date!\n"
     ]
    }
   ],
   "source": [
    "# packages for api request\n",
    "import requests as re\n",
    "import time\n",
    "\n",
    "#language detection\n",
    "import langid\n",
    "\n",
    "#package for sentiment analysis\n",
    "import nltk\n",
    "nltk.download('vader_lexicon')\n",
    "from nltk.sentiment.vader import SentimentIntensityAnalyzer as SIA\n",
    "sia = SIA()\n"
   ]
  },
  {
   "cell_type": "code",
   "execution_count": 8,
   "id": "926675ba",
   "metadata": {},
   "outputs": [],
   "source": [
    "def fetch_reddit_data(sia, start, end, coin, restrict_score = '>0', size = 50, fields = [\n",
    "    'num_comments', 'title', 'score', 'upvote_ratio', 'subreddit']):\n",
    "    \"\"\"\n",
    "    Given sentiment analyzer, a date range and coin:\n",
    "    1) Get size reddit posts about that coin sorted from highest to lowest score.\n",
    "    2) Remove duplicated posts.\n",
    "    3) Remove non-english posts.\n",
    "    4) Get sentiment scores.\n",
    "        restrict_score must be in the format >int or <int\n",
    "        max value for size is 500\n",
    "    \"\"\"\n",
    "    \n",
    "    def make_api_request(start, end, coin, restrict_score, size, fields):\n",
    "        base_url = 'https://api.pushshift.io/reddit/search/submission/'\n",
    "        params = {\n",
    "            'title': coin,\n",
    "            'fields': fields,\n",
    "            'sort_type': 'score',\n",
    "            'score': restrict_score,\n",
    "            'after':  create_epoch(start, '00:00:01'),\n",
    "            'before': create_epoch(end, '23:59:59'),\n",
    "            'size': size\n",
    "        }\n",
    "        print(f\"epoch start (start): {create_epoch(start, '00:00:01')}, epoch end (end) {create_epoch(end, '23:59:59')}\")\n",
    "        return re.get(base_url, params).json()['data']\n",
    "    \n",
    "    def create_epoch(date, clock):\n",
    "        \"\"\"Given date (format = ‘mm/dd/yyyy’) and clock (format = 'HH:MM:SS') return the Epoch.\"\"\"\n",
    "        date_time = f\"{date} {clock}\"\n",
    "        pattern = '%m/%d/%Y %H:%M:%S'\n",
    "        return int(time.mktime(time.strptime(date_time, pattern)))\n",
    "    \n",
    "    def deduplicate_titles(posts):\n",
    "        \"\"\"Removes posts based on duplicate titles.\n",
    "        Caveot: posts with identical titles from different authors will be lost.\n",
    "        However, this should only affect a small proportion of the data and will \n",
    "        catch posts resubmitted by bot accounts.s\"\"\"\n",
    "        def titler(post):\n",
    "             titles.append(post['title'])\n",
    "             return post\n",
    "\n",
    "        titles = []\n",
    "        return [titler(post) for post in posts if post['title'] not in titles]\n",
    "    \n",
    "    def get_english_posts(posts):\n",
    "        english_posts = []\n",
    "\n",
    "        for post in posts:\n",
    "            if langid.classify(post['title'])[0] == 'en':\n",
    "                english_posts.append(post)\n",
    "        return english_posts\n",
    "                \n",
    "    def get_sentiment(posts, sia):\n",
    "        for post in posts:\n",
    "            post['sentiment_scores'] = sia.polarity_scores(post['title'])\n",
    "        return posts\n",
    "    \n",
    "    # API request\n",
    "    posts = make_api_request(start, end, coin, restrict_score, size, fields)\n",
    "    print(f\"Num posts retrieved: {len(posts)}\")\n",
    "    # remove duplicate titles\n",
    "    posts = deduplicate_titles(posts)\n",
    "    # remove non-english posts\n",
    "    posts = get_english_posts(posts)\n",
    "    # get sentiment and add to data\n",
    "    return get_sentiment(posts, sia)"
   ]
  },
  {
   "cell_type": "code",
   "execution_count": 13,
   "id": "e9831486",
   "metadata": {},
   "outputs": [
    {
     "name": "stdout",
     "output_type": "stream",
     "text": [
      "epoch start (start): 1609390801, epoch end (end) 1609563599\n",
      "Num posts retrieved: 100\n"
     ]
    }
   ],
   "source": [
    "test_data = fetch_reddit_data(sia, '12/31/2020', '1/1/2021', 'Bitcoin', size=500)"
   ]
  },
  {
   "cell_type": "code",
   "execution_count": 5,
   "id": "c5f1d39f",
   "metadata": {},
   "outputs": [
    {
     "name": "stdout",
     "output_type": "stream",
     "text": [
      "{'num_comments': 0, 'score': 1, 'subreddit': 'u_Afanasy228', 'title': 'Best Bitcoin Generator 2020 No Fee Get 0.016 BTC Per Day', 'upvote_ratio': 1.0, 'sentiment_scores': {'neg': 0.143, 'neu': 0.584, 'pos': 0.273, 'compound': 0.4588}}\n",
      "---------------------\n",
      "{'num_comments': 0, 'score': 1, 'subreddit': 'CryptoMarkets', 'title': 'bitcoin private key finder', 'upvote_ratio': 1.0, 'sentiment_scores': {'neg': 0.0, 'neu': 1.0, 'pos': 0.0, 'compound': 0.0}}\n",
      "---------------------\n",
      "{'num_comments': 0, 'score': 1, 'subreddit': 'iosgaming', 'title': 'My new game just went live today 🤳🍾🐎🐎play it with friends because it’s too early for “random room”. Optional: use Venmo, cash app, bitcoin etc. among colleagues for added excitement.', 'upvote_ratio': 1.0, 'sentiment_scores': {'neg': 0.0, 'neu': 0.816, 'pos': 0.184, 'compound': 0.743}}\n",
      "---------------------\n",
      "{'num_comments': 0, 'score': 1, 'subreddit': 'CryptoCurrencyTrading', 'title': 'MicroStrategy Bets Big On Bitcoin', 'upvote_ratio': 1.0, 'sentiment_scores': {'neg': 0.0, 'neu': 1.0, 'pos': 0.0, 'compound': 0.0}}\n",
      "---------------------\n",
      "{'num_comments': 0, 'score': 1, 'subreddit': 'bitcoinmeetupsx', 'title': 'New Telegram group for DeFi and Ethereum AMA and talk. http://t.me/defiama #crypto #bitcoin', 'upvote_ratio': 1.0, 'sentiment_scores': {'neg': 0.0, 'neu': 1.0, 'pos': 0.0, 'compound': 0.0}}\n",
      "---------------------\n",
      "{'num_comments': 0, 'score': 1, 'subreddit': 'maxbit', 'title': 'A Rejection At This Level Could Result in Bitcoin Falling to $8,000', 'upvote_ratio': 1.0, 'sentiment_scores': {'neg': 0.362, 'neu': 0.638, 'pos': 0.0, 'compound': -0.6249}}\n",
      "---------------------\n",
      "{'num_comments': 0, 'score': 1, 'subreddit': 'maxbit', 'title': 'This Level Holds the Key to Bitcoin Moving Higher in the Near Term', 'upvote_ratio': 1.0, 'sentiment_scores': {'neg': 0.0, 'neu': 1.0, 'pos': 0.0, 'compound': 0.0}}\n",
      "---------------------\n",
      "{'num_comments': 0, 'score': 1, 'subreddit': 'CryptoCurrencyTrading', 'title': 'Ledger Updates App To Combat Bitcoin Dusting Attacks', 'upvote_ratio': 1.0, 'sentiment_scores': {'neg': 0.469, 'neu': 0.531, 'pos': 0.0, 'compound': -0.6486}}\n",
      "---------------------\n",
      "{'num_comments': 0, 'score': 1, 'subreddit': 'Altcoinss', 'title': 'Market Outlook: Bitcoin Breaks $11K, Whales Refuse to Sell, Downside Risk Remains', 'upvote_ratio': 1.0, 'sentiment_scores': {'neg': 0.412, 'neu': 0.588, 'pos': 0.0, 'compound': -0.6486}}\n",
      "---------------------\n",
      "{'num_comments': 0, 'score': 1, 'subreddit': 'maxbit', 'title': 'These 5 Technical Trends Show Bitcoin Could Drop After Passing $11k', 'upvote_ratio': 1.0, 'sentiment_scores': {'neg': 0.189, 'neu': 0.811, 'pos': 0.0, 'compound': -0.2732}}\n",
      "---------------------\n",
      "{'num_comments': 0, 'score': 1, 'subreddit': 'azcoinnews', 'title': 'Brazil’s Hashdex Is Teaming Up With Nasdaq To Bring The World’s First Bitcoin ETF To The BSX', 'upvote_ratio': 1.0, 'sentiment_scores': {'neg': 0.0, 'neu': 1.0, 'pos': 0.0, 'compound': 0.0}}\n",
      "---------------------\n",
      "{'num_comments': 0, 'score': 1, 'subreddit': 'CryptoCurrencyTrading', 'title': \"Investing 1% of Your Portfolio in Bitcoin Has Small Downside &amp; Massive Upside (45-second audio clip from Anthony Pompliano's podcast with Jim Cramer)\", 'upvote_ratio': 1.0, 'sentiment_scores': {'neg': 0.083, 'neu': 0.917, 'pos': 0.0, 'compound': -0.25}}\n",
      "---------------------\n",
      "{'num_comments': 0, 'score': 1, 'subreddit': 'tech', 'title': 'Institutional Investors Say They’ll Buy More Bitcoin: Survey', 'upvote_ratio': 1.0, 'sentiment_scores': {'neg': 0.0, 'neu': 1.0, 'pos': 0.0, 'compound': 0.0}}\n",
      "---------------------\n",
      "{'num_comments': 0, 'score': 1, 'subreddit': 'mrcryptolive', 'title': 'Bitcoin price hits $11,100 wall and drops 6% — Relief rally to follow?', 'upvote_ratio': 1.0, 'sentiment_scores': {'neg': 0.0, 'neu': 0.78, 'pos': 0.22, 'compound': 0.4767}}\n",
      "---------------------\n",
      "{'num_comments': 0, 'score': 1, 'subreddit': 'btcnewsfeed', 'title': 'Reminder: Update your Bitcoin node to a recent version. That is all.', 'upvote_ratio': 1.0, 'sentiment_scores': {'neg': 0.0, 'neu': 1.0, 'pos': 0.0, 'compound': 0.0}}\n",
      "---------------------\n",
      "{'num_comments': 0, 'score': 1, 'subreddit': 'BitcoinMarkets', 'title': 'Bitcoin Is Braced For A Near-$1 Billion Shock This Week', 'upvote_ratio': 1.0, 'sentiment_scores': {'neg': 0.245, 'neu': 0.755, 'pos': 0.0, 'compound': -0.3818}}\n",
      "---------------------\n",
      "{'num_comments': 1, 'score': 1, 'subreddit': 'CryptoCurrency', 'title': 'US Indicts Hackers Stealing $17M in Bitcoin and Ether From Binance, Poloniex, Gemini Users', 'upvote_ratio': 1.0, 'sentiment_scores': {'neg': 0.222, 'neu': 0.778, 'pos': 0.0, 'compound': -0.5719}}\n",
      "---------------------\n",
      "{'num_comments': 0, 'score': 1, 'subreddit': 'CryptoCurrency', 'title': 'tBTC is live on Ethereum: “The first truly decentralised, permissionless tokenised Bitcoin”', 'upvote_ratio': 1.0, 'sentiment_scores': {'neg': 0.0, 'neu': 0.791, 'pos': 0.209, 'compound': 0.4404}}\n",
      "---------------------\n",
      "{'num_comments': 0, 'score': 1, 'subreddit': 'CoinTelegraph', 'title': 'Institutional investors plan to buy every Bitcoin price dip, data suggests', 'upvote_ratio': 1.0, 'sentiment_scores': {'neg': 0.0, 'neu': 1.0, 'pos': 0.0, 'compound': 0.0}}\n",
      "---------------------\n",
      "{'num_comments': 0, 'score': 1, 'subreddit': 'rootstock', 'title': 'Check out this episode by Charles Hoskinson, featuring Sergio Lerner and Martín Medina! These two powerhouses from IOVlabs offer their approach to the latest 51% attack on Ethereum Classic, based on Bitcoin Merged Mining.', 'upvote_ratio': 1.0, 'sentiment_scores': {'neg': 0.093, 'neu': 0.907, 'pos': 0.0, 'compound': -0.5255}}\n",
      "---------------------\n",
      "{'num_comments': 0, 'score': 1, 'subreddit': 'CryptoTrading24', 'title': 'Bitcoin Traders Say Options Market Understates Likelihood of Chaotic US Election', 'upvote_ratio': 1.0, 'sentiment_scores': {'neg': 0.242, 'neu': 0.758, 'pos': 0.0, 'compound': -0.4939}}\n",
      "---------------------\n",
      "{'num_comments': 0, 'score': 1, 'subreddit': 'maxbit', 'title': 'Former Goldman Sachs Exec Says Over 50% of His Investment Portfolio Is in Bitcoin', 'upvote_ratio': 1.0, 'sentiment_scores': {'neg': 0.0, 'neu': 1.0, 'pos': 0.0, 'compound': 0.0}}\n",
      "---------------------\n",
      "{'num_comments': 1, 'score': 1, 'subreddit': 'CryptoCurrency', 'title': 'A new survey found that pension funds and insurance firms anticipate that they will increase their bitcoin and cryptocurrency holdings over the next five years.', 'upvote_ratio': 1.0, 'sentiment_scores': {'neg': 0.0, 'neu': 0.909, 'pos': 0.091, 'compound': 0.3182}}\n",
      "---------------------\n",
      "{'num_comments': 1, 'score': 1, 'subreddit': 'CryptoCurrency', 'title': \"Brazilian fund manager and Nasdaq to launch world's first Bitcoin ETF\", 'upvote_ratio': 1.0, 'sentiment_scores': {'neg': 0.0, 'neu': 1.0, 'pos': 0.0, 'compound': 0.0}}\n",
      "---------------------\n",
      "{'num_comments': 0, 'score': 1, 'subreddit': 'CryptoCurrencies', 'title': 'May the Bitcoin be with you', 'upvote_ratio': 1.0, 'sentiment_scores': {'neg': 0.0, 'neu': 1.0, 'pos': 0.0, 'compound': 0.0}}\n",
      "---------------------\n",
      "{'num_comments': 0, 'score': 1, 'subreddit': 'Crypto_General', 'title': 'Bitcoin is a better gold than gold, says Tyler Winklevoss', 'upvote_ratio': 1.0, 'sentiment_scores': {'neg': 0.0, 'neu': 0.734, 'pos': 0.266, 'compound': 0.4404}}\n",
      "---------------------\n"
     ]
    }
   ],
   "source": [
    "for post in test_data:\n",
    "    print(post)\n",
    "    print('---------------------')\n"
   ]
  },
  {
   "cell_type": "code",
   "execution_count": null,
   "id": "189b70d9",
   "metadata": {},
   "outputs": [],
   "source": []
  }
 ],
 "metadata": {
  "kernelspec": {
   "display_name": "mlenv",
   "language": "python",
   "name": "mlenv"
  },
  "language_info": {
   "codemirror_mode": {
    "name": "ipython",
    "version": 3
   },
   "file_extension": ".py",
   "mimetype": "text/x-python",
   "name": "python",
   "nbconvert_exporter": "python",
   "pygments_lexer": "ipython3",
   "version": "3.7.10"
  }
 },
 "nbformat": 4,
 "nbformat_minor": 5
}
