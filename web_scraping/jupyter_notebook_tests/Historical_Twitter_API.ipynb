{
 "cells": [
  {
   "cell_type": "code",
   "execution_count": null,
   "id": "5b49311e",
   "metadata": {},
   "outputs": [],
   "source": [
    "import requests\n",
    "import json\n",
    "\n",
    "# get the credentials\n",
    "sys.path.insert(0, '../load')\n",
    "from config import credentials"
   ]
  },
  {
   "cell_type": "code",
   "execution_count": null,
   "id": "41eefb8b",
   "metadata": {},
   "outputs": [],
   "source": [
    "bearer_token = credentials['BEARER_TOKEN']\n",
    "search_url = f\"https://api.twitter.com/1.1/tweets/search/fullarchive/{credentials['ENV']}.json\""
   ]
  },
  {
   "cell_type": "code",
   "execution_count": null,
   "id": "f0254e54",
   "metadata": {},
   "outputs": [],
   "source": [
    "query_params = { 'query': 'Ethereum' }"
   ]
  },
  {
   "cell_type": "code",
   "execution_count": null,
   "id": "4b3524b1",
   "metadata": {},
   "outputs": [],
   "source": [
    "def bearer_oauth(r):\n",
    "    \"\"\"\n",
    "    Method required by bearer token authentication.\n",
    "    \"\"\"\n",
    "\n",
    "    r.headers[\"Authorization\"] = f\"Bearer {bearer_token}\"\n",
    "    # this should probably be something else, but I don't know what to change it to     \n",
    "    r.headers[\"User-Agent\"] = 'v2RecentSearchPython'\n",
    "    return r\n",
    "\n",
    "def connect_to_endpoint(url, params):\n",
    "    response = requests.get(url, auth = bearer_oauth, params = params)\n",
    "    print(response.status_code)\n",
    "    if response.status_code != 200:\n",
    "        raise Exception(response.status_code, response.text)\n",
    "    return response.json()\n",
    "\n",
    "\n",
    "def get_historic_tweets(url, params):\n",
    "    return connect_to_endpoint(url, params)"
   ]
  }
 ],
 "metadata": {
  "kernelspec": {
   "display_name": "mlenv",
   "language": "python",
   "name": "mlenv"
  },
  "language_info": {
   "codemirror_mode": {
    "name": "ipython",
    "version": 3
   },
   "file_extension": ".py",
   "mimetype": "text/x-python",
   "name": "python",
   "nbconvert_exporter": "python",
   "pygments_lexer": "ipython3",
   "version": "3.7.10"
  }
 },
 "nbformat": 4,
 "nbformat_minor": 5
}
