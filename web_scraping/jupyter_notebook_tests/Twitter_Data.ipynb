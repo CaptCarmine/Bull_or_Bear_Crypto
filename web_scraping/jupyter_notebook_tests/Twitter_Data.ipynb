{
 "cells": [
  {
   "cell_type": "code",
   "execution_count": 1,
   "id": "19d86cdc",
   "metadata": {},
   "outputs": [
    {
     "name": "stderr",
     "output_type": "stream",
     "text": [
      "[nltk_data] Downloading package vader_lexicon to\n",
      "[nltk_data]     C:\\Users\\karar\\AppData\\Roaming\\nltk_data...\n",
      "[nltk_data]   Package vader_lexicon is already up-to-date!\n"
     ]
    }
   ],
   "source": [
    "import twitter\n",
    "import sys\n",
    "\n",
    "#language detection\n",
    "import langid\n",
    "\n",
    "#package for sentiment analysis\n",
    "import nltk\n",
    "nltk.download('vader_lexicon')\n",
    "from nltk.sentiment.vader import SentimentIntensityAnalyzer as SIA\n",
    "sia = SIA()\n",
    "\n",
    "# get the credentials\n",
    "sys.path.insert(0, '../load')\n",
    "from config import credentials"
   ]
  },
  {
   "cell_type": "code",
   "execution_count": 2,
   "id": "deb7ea63",
   "metadata": {},
   "outputs": [],
   "source": [
    "api = twitter.Api(consumer_key = credentials['CONSUMER_KEY'],\n",
    "                 consumer_secret = credentials['CONSUMER_SECRET'],\n",
    "                 access_token_key = credentials['ACCESS_TOKEN'],\n",
    "                 access_token_secret = credentials['ACCESS_SECRET'])"
   ]
  },
  {
   "cell_type": "code",
   "execution_count": 3,
   "id": "ad1a70ba",
   "metadata": {},
   "outputs": [],
   "source": [
    "def fetch_twitter_data(sia, api, start, end, coin, size = 50):\n",
    "    \"\"\"\n",
    "    Given sentiment analyzer, a date range and coin:\n",
    "    1) Get size reddit posts about that coin sorted from highest to lowest score.\n",
    "    2) Remove duplicated posts.\n",
    "    3) Remove non-english posts.\n",
    "    4) Get sentiment scores.\n",
    "        restrict_score must be in the format >int or <int\n",
    "        max value for size is 500\n",
    "    Date ranges are expected in 'YYY-MM-DD' format\n",
    "    \"\"\"\n",
    "    \n",
    "    def get_english_posts(posts):\n",
    "        \"\"\"Given a set of posts, returns only English posts.\"\"\"\n",
    "        english_posts = []\n",
    "\n",
    "        for post in posts:\n",
    "            if langid.classify(post['text'])[0] == 'en':\n",
    "                english_posts.append(post)\n",
    "        return english_posts\n",
    "                \n",
    "    def get_sentiment(posts, sia):\n",
    "        \"\"\"Given a set of posts, runs sentiment analysis on the titles and returns the posts with the analysis.\"\"\"\n",
    "        for post in posts:\n",
    "            post['sentiment_scores'] = sia.polarity_scores(post['text'])\n",
    "        return posts\n",
    "    \n",
    "    # convert twitter module to object     \n",
    "    res = api.GetSearch(term = coin, count = size, since = start, until = end)\n",
    "    posts = []\n",
    "    for status in res:\n",
    "        posts.append({\n",
    "            'text': status.text,\n",
    "            'created:': status.created_at,\n",
    "            'favorites': status.favorite_count,\n",
    "            'retweets': status.retweet_count,\n",
    "            'followers': status.user.followers_count\n",
    "        })\n",
    "        \n",
    "    # only keep english posts, get sentiment analysis\n",
    "    posts = get_english_posts(posts)\n",
    "    posts = get_sentiment(posts, sia)\n",
    "    return posts\n",
    "    \n",
    "    "
   ]
  },
  {
   "cell_type": "code",
   "execution_count": 4,
   "id": "4d441623",
   "metadata": {},
   "outputs": [
    {
     "data": {
      "text/plain": [
       "[{'text': '#AuctionUpdate Curio Cards, a set of 31 NFTs considered to be the oldest artworks on the Ethereum blockchain sold f… https://t.co/VXbjJRxVai',\n",
       "  'created:': 'Fri Oct 01 14:35:11 +0000 2021',\n",
       "  'favorites': 1591,\n",
       "  'retweets': 591,\n",
       "  'followers': 168013,\n",
       "  'sentiment_scores': {'neg': 0.0, 'neu': 1.0, 'pos': 0.0, 'compound': 0.0}}]"
      ]
     },
     "execution_count": 4,
     "metadata": {},
     "output_type": "execute_result"
    }
   ],
   "source": [
    "fetch_twitter_data(sia, api, '2021-10-01', '2021-10-02', 'Ethereum', size = 1)"
   ]
  }
 ],
 "metadata": {
  "kernelspec": {
   "display_name": "PythonData",
   "language": "python",
   "name": "pythondata"
  },
  "language_info": {
   "codemirror_mode": {
    "name": "ipython",
    "version": 3
   },
   "file_extension": ".py",
   "mimetype": "text/x-python",
   "name": "python",
   "nbconvert_exporter": "python",
   "pygments_lexer": "ipython3",
   "version": "3.7.10"
  }
 },
 "nbformat": 4,
 "nbformat_minor": 5
}
