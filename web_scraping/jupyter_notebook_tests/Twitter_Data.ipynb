{
 "cells": [
  {
   "cell_type": "code",
   "execution_count": 1,
   "id": "19d86cdc",
   "metadata": {},
   "outputs": [
    {
     "name": "stderr",
     "output_type": "stream",
     "text": [
      "[nltk_data] Downloading package vader_lexicon to\n",
      "[nltk_data]     C:\\Users\\karar\\AppData\\Roaming\\nltk_data...\n",
      "[nltk_data]   Package vader_lexicon is already up-to-date!\n"
     ]
    }
   ],
   "source": [
    "import twitter\n",
    "import sys\n",
    "\n",
    "#language detection\n",
    "import langid\n",
    "\n",
    "#package for sentiment analysis\n",
    "import nltk\n",
    "nltk.download('vader_lexicon')\n",
    "from nltk.sentiment.vader import SentimentIntensityAnalyzer as SIA\n",
    "sia = SIA()\n",
    "\n",
    "# get the credentials\n",
    "sys.path.insert(0, '../load')\n",
    "from config import credentials"
   ]
  },
  {
   "cell_type": "code",
   "execution_count": 2,
   "id": "deb7ea63",
   "metadata": {},
   "outputs": [],
   "source": [
    "api = twitter.Api(consumer_key = credentials['CONSUMER_KEY'],\n",
    "                 consumer_secret = credentials['CONSUMER_SECRET'],\n",
    "                 access_token_key = credentials['ACCESS_TOKEN'],\n",
    "                 access_token_secret = credentials['ACCESS_SECRET'])"
   ]
  },
  {
   "cell_type": "code",
   "execution_count": 9,
   "id": "ad1a70ba",
   "metadata": {},
   "outputs": [],
   "source": [
    "def fetch_twitter_data(sia, api, start, end, coin, size = 50):\n",
    "    \"\"\"\n",
    "    Given sentiment analyzer, a date range and coin:\n",
    "    1) Get size twitter posts about that coin.\n",
    "    2) Get sentiment scores.\n",
    "        restrict_score must be in the format >int or <int\n",
    "        max value for size is 100\n",
    "    Date ranges are expected in 'YYY-MM-DD' format\n",
    "    \"\"\"\n",
    "                \n",
    "    def get_sentiment(posts, sia):\n",
    "        \"\"\"Given a set of posts, runs sentiment analysis on the titles and returns the posts with the analysis.\"\"\"\n",
    "        for post in posts:\n",
    "            post['sentiment_scores'] = sia.polarity_scores(post['text'])\n",
    "        return posts\n",
    "    \n",
    "    # convert twitter module to object     \n",
    "    res = api.GetSearch(term = coin, count = size, since = start, until = end, lang='en', result_type='popular')\n",
    "    posts = []\n",
    "    for status in res:\n",
    "        posts.append({\n",
    "            'text': status.text,\n",
    "            'created:': status.created_at,\n",
    "            'favorites': status.favorite_count,\n",
    "            'retweets': status.retweet_count,\n",
    "            'followers': status.user.followers_count\n",
    "        })\n",
    "        \n",
    "    # get sentiment analysis\n",
    "    posts = get_sentiment(posts, sia)\n",
    "    return posts\n",
    "    \n",
    "    "
   ]
  },
  {
   "cell_type": "code",
   "execution_count": 10,
   "id": "6fab87b4",
   "metadata": {},
   "outputs": [
    {
     "data": {
      "text/plain": [
       "[{'text': '#AuctionUpdate Curio Cards, a set of 31 NFTs considered to be the oldest artworks on the Ethereum blockchain sold f… https://t.co/VXbjJRxVai',\n",
       "  'created:': 'Fri Oct 01 14:35:11 +0000 2021',\n",
       "  'favorites': 1591,\n",
       "  'retweets': 591,\n",
       "  'followers': 168018,\n",
       "  'sentiment_scores': {'neg': 0.0, 'neu': 1.0, 'pos': 0.0, 'compound': 0.0}}]"
      ]
     },
     "execution_count": 10,
     "metadata": {},
     "output_type": "execute_result"
    }
   ],
   "source": [
    "fetch_twitter_data(sia, api, '2021-10-01', '2021-10-02', 'Ethereum', size = 1)"
   ]
  },
  {
   "cell_type": "code",
   "execution_count": 6,
   "id": "1cb69b39",
   "metadata": {},
   "outputs": [
    {
     "name": "stdout",
     "output_type": "stream",
     "text": [
      "Help on method GetSearch in module twitter.api:\n",
      "\n",
      "GetSearch(term=None, raw_query=None, geocode=None, since_id=None, max_id=None, until=None, since=None, count=15, lang=None, locale=None, result_type='mixed', include_entities=None, return_json=False) method of twitter.api.Api instance\n",
      "    Return twitter search results for a given term. You must specify one\n",
      "    of term, geocode, or raw_query.\n",
      "    \n",
      "    Args:\n",
      "      term (str, optional):\n",
      "        Term to search by. Optional if you include geocode.\n",
      "      raw_query (str, optional):\n",
      "        A raw query as a string. This should be everything after the \"?\" in\n",
      "        the URL (i.e., the query parameters). You are responsible for all\n",
      "        type checking and ensuring that the query string is properly\n",
      "        formatted, as it will only be URL-encoded before be passed directly\n",
      "        to Twitter with no other checks performed. For advanced usage only.\n",
      "        *This will override any other parameters passed*\n",
      "      since_id (int, optional):\n",
      "        Returns results with an ID greater than (that is, more recent\n",
      "        than) the specified ID. There are limits to the number of\n",
      "        Tweets which can be accessed through the API. If the limit of\n",
      "        Tweets has occurred since the since_id, the since_id will be\n",
      "        forced to the oldest ID available.\n",
      "      max_id (int, optional):\n",
      "        Returns only statuses with an ID less than (that is, older\n",
      "        than) or equal to the specified ID.\n",
      "      until (str, optional):\n",
      "        Returns tweets generated before the given date. Date should be\n",
      "        formatted as YYYY-MM-DD.\n",
      "      since (str, optional):\n",
      "        Returns tweets generated since the given date. Date should be\n",
      "        formatted as YYYY-MM-DD.\n",
      "      geocode (str or list or tuple, optional):\n",
      "        Geolocation within which to search for tweets. Can be either a\n",
      "        string in the form of \"latitude,longitude,radius\" where latitude\n",
      "        and longitude are floats and radius is a string such as \"1mi\" or\n",
      "        \"1km\" (\"mi\" or \"km\" are the only units allowed). For example:\n",
      "          >>> api.GetSearch(geocode=\"37.781157,-122.398720,1mi\").\n",
      "        Otherwise, you can pass a list of either floats or strings for\n",
      "        lat/long and a string for radius:\n",
      "          >>> api.GetSearch(geocode=[37.781157, -122.398720, \"1mi\"])\n",
      "          >>> # or:\n",
      "          >>> api.GetSearch(geocode=(37.781157, -122.398720, \"1mi\"))\n",
      "          >>> # or:\n",
      "          >>> api.GetSearch(geocode=(\"37.781157\", \"-122.398720\", \"1mi\"))\n",
      "      count (int, optional):\n",
      "        Number of results to return.  Default is 15 and maxmimum that\n",
      "        Twitter returns is 100 irrespective of what you type in.\n",
      "      lang (str, optional):\n",
      "        Language for results as ISO 639-1 code.  Default is None\n",
      "        (all languages).\n",
      "      locale (str, optional):\n",
      "        Language of the search query. Currently only 'ja' is effective.\n",
      "        This is intended for language-specific consumers and the default\n",
      "        should work in the majority of cases.\n",
      "      result_type (str, optional):\n",
      "        Type of result which should be returned. Default is \"mixed\".\n",
      "        Valid options are \"mixed, \"recent\", and \"popular\".\n",
      "      include_entities (bool, optional):\n",
      "        If True, each tweet will include a node called \"entities\".\n",
      "        This node offers a variety of metadata about the tweet in a\n",
      "        discrete structure, including: user_mentions, urls, and\n",
      "        hashtags.\n",
      "      return_json (bool, optional):\n",
      "        If True JSON data will be returned, instead of twitter.Userret\n",
      "    Returns:\n",
      "      list: A sequence of twitter.Status instances, one for each message\n",
      "      containing the term, within the bounds of the geocoded area, or\n",
      "      given by the raw_query.\n",
      "\n"
     ]
    }
   ],
   "source": [
    "help(api.GetSearch)"
   ]
  },
  {
   "cell_type": "code",
   "execution_count": null,
   "id": "c46abd12",
   "metadata": {},
   "outputs": [],
   "source": []
  }
 ],
 "metadata": {
  "kernelspec": {
   "display_name": "PythonData",
   "language": "python",
   "name": "pythondata"
  },
  "language_info": {
   "codemirror_mode": {
    "name": "ipython",
    "version": 3
   },
   "file_extension": ".py",
   "mimetype": "text/x-python",
   "name": "python",
   "nbconvert_exporter": "python",
   "pygments_lexer": "ipython3",
   "version": "3.7.10"
  }
 },
 "nbformat": 4,
 "nbformat_minor": 5
}
