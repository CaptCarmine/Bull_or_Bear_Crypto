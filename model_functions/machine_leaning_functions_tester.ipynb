{
 "cells": [
  {
   "cell_type": "code",
   "execution_count": 9,
   "id": "4c33bc57",
   "metadata": {},
   "outputs": [],
   "source": [
    "import os\n",
    "import pandas as pd\n",
    "\n",
    "# Define the checkpoint path and filenames\n",
    "os.makedirs('checkpoints/', exist_ok = True)\n",
    "checkpoint_path = 'checkpoints/weights.{epoch:02d}.hdf5'\n",
    "data = pd.read_csv('./jupyter_notebook_tests/coin_Bitcoin.csv')\n",
    "\n",
    "#get the nn function\n",
    "#imports to load from subdirectories\n",
    "import sys\n",
    "sys.path.insert(0, './load')\n",
    "from nn_maker import run_nn_model\n"
   ]
  },
  {
   "cell_type": "code",
   "execution_count": 11,
   "id": "91c8abc7",
   "metadata": {},
   "outputs": [
    {
     "name": "stdout",
     "output_type": "stream",
     "text": [
      "Help on function run_nn_model in module nn_maker:\n",
      "\n",
      "run_nn_model(data, target, drop=[], thresholds=[], input_node={'units': 80, 'activation': 'relu'}, hidden_nodes=[{'units': 30, 'activation': 'relu'}], output_node={'units': 1, 'activation': 'sigmoid'}, optimizer='adam', epochs=100, save_path='', seed=0, verbose=0)\n",
      "    Processes data, creates a neuro network, trains, and tests it.  Returns the trained model.\n",
      "    data: target and features values in a data frame\n",
      "    target: the name of the y col in data\n",
      "    drop: cols to drop from the data\n",
      "    thresholds: an array of obects with properties 'col' and 'threshold'\n",
      "        col is the column to bin\n",
      "        threshold is teh value below which all vals should be binned into other\n",
      "    target: the name of the target col\n",
      "    input_node: an object with properties 'units' and 'activation'\n",
      "    hidden_nodes: an array of objects with properties 'units' and 'activation'\n",
      "    output_node: an object with properties 'units' and 'activation'\n",
      "        units is an int\n",
      "        activation is a string in: relu, leaky_relu, tanh, sigmoid\n",
      "    optimizer: a string in: adadelta, adagrad, adam, adamax, ftrl, optimiser, rmsprop, sgd\n",
      "    epochs: how long to train the model\n",
      "    save_path: where to save epoch weights; an empty string tells the code to not save epochs \n",
      "    seed: an int to seed the train/test split on\n",
      "    verbose: an int to set how much data the model outputs while running\n",
      "\n"
     ]
    }
   ],
   "source": [
    "help(run_nn_model)"
   ]
  },
  {
   "cell_type": "code",
   "execution_count": 12,
   "id": "4bc01a80",
   "metadata": {},
   "outputs": [
    {
     "name": "stdout",
     "output_type": "stream",
     "text": [
      "Loss: -7.760337950558126e+17, Accuracy: 0.0\n"
     ]
    }
   ],
   "source": [
    "model = run_nn_model(data, 'Marketcap', drop = ['Name', 'Symbol', 'SNo', 'Date'], save_path = checkpoint_path)"
   ]
  },
  {
   "cell_type": "code",
   "execution_count": null,
   "id": "0566d788",
   "metadata": {},
   "outputs": [],
   "source": []
  }
 ],
 "metadata": {
  "kernelspec": {
   "display_name": "mlenv",
   "language": "python",
   "name": "mlenv"
  },
  "language_info": {
   "codemirror_mode": {
    "name": "ipython",
    "version": 3
   },
   "file_extension": ".py",
   "mimetype": "text/x-python",
   "name": "python",
   "nbconvert_exporter": "python",
   "pygments_lexer": "ipython3",
   "version": "3.7.10"
  }
 },
 "nbformat": 4,
 "nbformat_minor": 5
}
